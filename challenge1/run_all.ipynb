{
  "nbformat": 4,
  "nbformat_minor": 0,
  "metadata": {
    "kernelspec": {
      "display_name": "Python [conda env:ml]",
      "language": "python",
      "name": "conda-env-ml-py"
    },
    "language_info": {
      "codemirror_mode": {
        "name": "ipython",
        "version": 3
      },
      "file_extension": ".py",
      "mimetype": "text/x-python",
      "name": "python",
      "nbconvert_exporter": "python",
      "pygments_lexer": "ipython3",
      "version": "3.8.3"
    },
    "colab": {
      "name": "run_all.ipynb",
      "provenance": []
    },
    "accelerator": "GPU",
    "widgets": {
      "application/vnd.jupyter.widget-state+json": {
        "72f4365b91354c48810a2ff0258a0cfa": {
          "model_module": "@jupyter-widgets/controls",
          "model_name": "HBoxModel",
          "state": {
            "_view_name": "HBoxView",
            "_dom_classes": [],
            "_model_name": "HBoxModel",
            "_view_module": "@jupyter-widgets/controls",
            "_model_module_version": "1.5.0",
            "_view_count": null,
            "_view_module_version": "1.5.0",
            "box_style": "",
            "layout": "IPY_MODEL_944ccfeb0a1f421b883385f16338d191",
            "_model_module": "@jupyter-widgets/controls",
            "children": [
              "IPY_MODEL_9b4ce1c4e0904abf871ad463f92eb2fa",
              "IPY_MODEL_e486e8cdeac145adbfafb972333a1cb7"
            ]
          }
        },
        "944ccfeb0a1f421b883385f16338d191": {
          "model_module": "@jupyter-widgets/base",
          "model_name": "LayoutModel",
          "state": {
            "_view_name": "LayoutView",
            "grid_template_rows": null,
            "right": null,
            "justify_content": null,
            "_view_module": "@jupyter-widgets/base",
            "overflow": null,
            "_model_module_version": "1.2.0",
            "_view_count": null,
            "flex_flow": "row wrap",
            "width": "100%",
            "min_width": null,
            "border": null,
            "align_items": null,
            "bottom": null,
            "_model_module": "@jupyter-widgets/base",
            "top": null,
            "grid_column": null,
            "overflow_y": null,
            "overflow_x": null,
            "grid_auto_flow": null,
            "grid_area": null,
            "grid_template_columns": null,
            "flex": null,
            "_model_name": "LayoutModel",
            "justify_items": null,
            "grid_row": null,
            "max_height": null,
            "align_content": null,
            "visibility": null,
            "align_self": null,
            "height": null,
            "min_height": null,
            "padding": null,
            "grid_auto_rows": null,
            "grid_gap": null,
            "max_width": null,
            "order": null,
            "_view_module_version": "1.2.0",
            "grid_template_areas": null,
            "object_position": null,
            "object_fit": null,
            "grid_auto_columns": null,
            "margin": null,
            "display": "inline-flex",
            "left": null
          }
        },
        "9b4ce1c4e0904abf871ad463f92eb2fa": {
          "model_module": "@jupyter-widgets/controls",
          "model_name": "FloatProgressModel",
          "state": {
            "_view_name": "ProgressView",
            "style": "IPY_MODEL_9c54d26294d64ddbbfe8115be607c838",
            "_dom_classes": [],
            "description": "Validation sanity check:   0%",
            "_model_name": "FloatProgressModel",
            "bar_style": "danger",
            "max": 2,
            "_view_module": "@jupyter-widgets/controls",
            "_model_module_version": "1.5.0",
            "value": 0,
            "_view_count": null,
            "_view_module_version": "1.5.0",
            "orientation": "horizontal",
            "min": 0,
            "description_tooltip": null,
            "_model_module": "@jupyter-widgets/controls",
            "layout": "IPY_MODEL_a34fdbbeb2764157aad3e71e7b57e955"
          }
        },
        "e486e8cdeac145adbfafb972333a1cb7": {
          "model_module": "@jupyter-widgets/controls",
          "model_name": "HTMLModel",
          "state": {
            "_view_name": "HTMLView",
            "style": "IPY_MODEL_ee8f73a4607b4a91bea09e4664454c56",
            "_dom_classes": [],
            "description": "",
            "_model_name": "HTMLModel",
            "placeholder": "​",
            "_view_module": "@jupyter-widgets/controls",
            "_model_module_version": "1.5.0",
            "value": " 0/2 [00:01&lt;?, ?it/s]",
            "_view_count": null,
            "_view_module_version": "1.5.0",
            "description_tooltip": null,
            "_model_module": "@jupyter-widgets/controls",
            "layout": "IPY_MODEL_e1493c78fcc44d19aba42c3c37b001c1"
          }
        },
        "9c54d26294d64ddbbfe8115be607c838": {
          "model_module": "@jupyter-widgets/controls",
          "model_name": "ProgressStyleModel",
          "state": {
            "_view_name": "StyleView",
            "_model_name": "ProgressStyleModel",
            "description_width": "initial",
            "_view_module": "@jupyter-widgets/base",
            "_model_module_version": "1.5.0",
            "_view_count": null,
            "_view_module_version": "1.2.0",
            "bar_color": null,
            "_model_module": "@jupyter-widgets/controls"
          }
        },
        "a34fdbbeb2764157aad3e71e7b57e955": {
          "model_module": "@jupyter-widgets/base",
          "model_name": "LayoutModel",
          "state": {
            "_view_name": "LayoutView",
            "grid_template_rows": null,
            "right": null,
            "justify_content": null,
            "_view_module": "@jupyter-widgets/base",
            "overflow": null,
            "_model_module_version": "1.2.0",
            "_view_count": null,
            "flex_flow": null,
            "width": null,
            "min_width": null,
            "border": null,
            "align_items": null,
            "bottom": null,
            "_model_module": "@jupyter-widgets/base",
            "top": null,
            "grid_column": null,
            "overflow_y": null,
            "overflow_x": null,
            "grid_auto_flow": null,
            "grid_area": null,
            "grid_template_columns": null,
            "flex": "2",
            "_model_name": "LayoutModel",
            "justify_items": null,
            "grid_row": null,
            "max_height": null,
            "align_content": null,
            "visibility": null,
            "align_self": null,
            "height": null,
            "min_height": null,
            "padding": null,
            "grid_auto_rows": null,
            "grid_gap": null,
            "max_width": null,
            "order": null,
            "_view_module_version": "1.2.0",
            "grid_template_areas": null,
            "object_position": null,
            "object_fit": null,
            "grid_auto_columns": null,
            "margin": null,
            "display": null,
            "left": null
          }
        },
        "ee8f73a4607b4a91bea09e4664454c56": {
          "model_module": "@jupyter-widgets/controls",
          "model_name": "DescriptionStyleModel",
          "state": {
            "_view_name": "StyleView",
            "_model_name": "DescriptionStyleModel",
            "description_width": "",
            "_view_module": "@jupyter-widgets/base",
            "_model_module_version": "1.5.0",
            "_view_count": null,
            "_view_module_version": "1.2.0",
            "_model_module": "@jupyter-widgets/controls"
          }
        },
        "e1493c78fcc44d19aba42c3c37b001c1": {
          "model_module": "@jupyter-widgets/base",
          "model_name": "LayoutModel",
          "state": {
            "_view_name": "LayoutView",
            "grid_template_rows": null,
            "right": null,
            "justify_content": null,
            "_view_module": "@jupyter-widgets/base",
            "overflow": null,
            "_model_module_version": "1.2.0",
            "_view_count": null,
            "flex_flow": null,
            "width": null,
            "min_width": null,
            "border": null,
            "align_items": null,
            "bottom": null,
            "_model_module": "@jupyter-widgets/base",
            "top": null,
            "grid_column": null,
            "overflow_y": null,
            "overflow_x": null,
            "grid_auto_flow": null,
            "grid_area": null,
            "grid_template_columns": null,
            "flex": null,
            "_model_name": "LayoutModel",
            "justify_items": null,
            "grid_row": null,
            "max_height": null,
            "align_content": null,
            "visibility": null,
            "align_self": null,
            "height": null,
            "min_height": null,
            "padding": null,
            "grid_auto_rows": null,
            "grid_gap": null,
            "max_width": null,
            "order": null,
            "_view_module_version": "1.2.0",
            "grid_template_areas": null,
            "object_position": null,
            "object_fit": null,
            "grid_auto_columns": null,
            "margin": null,
            "display": null,
            "left": null
          }
        },
        "a00b180747b945ba8984185adc36bd6c": {
          "model_module": "@jupyter-widgets/controls",
          "model_name": "HBoxModel",
          "state": {
            "_view_name": "HBoxView",
            "_dom_classes": [],
            "_model_name": "HBoxModel",
            "_view_module": "@jupyter-widgets/controls",
            "_model_module_version": "1.5.0",
            "_view_count": null,
            "_view_module_version": "1.5.0",
            "box_style": "",
            "layout": "IPY_MODEL_25b12a0f10b3406abded2e579d030936",
            "_model_module": "@jupyter-widgets/controls",
            "children": [
              "IPY_MODEL_1010b17d96c847d5956e7eda47c925c2",
              "IPY_MODEL_6ba1531472284dcca543c4d45a65fa8e"
            ]
          }
        },
        "25b12a0f10b3406abded2e579d030936": {
          "model_module": "@jupyter-widgets/base",
          "model_name": "LayoutModel",
          "state": {
            "_view_name": "LayoutView",
            "grid_template_rows": null,
            "right": null,
            "justify_content": null,
            "_view_module": "@jupyter-widgets/base",
            "overflow": null,
            "_model_module_version": "1.2.0",
            "_view_count": null,
            "flex_flow": "row wrap",
            "width": "100%",
            "min_width": null,
            "border": null,
            "align_items": null,
            "bottom": null,
            "_model_module": "@jupyter-widgets/base",
            "top": null,
            "grid_column": null,
            "overflow_y": null,
            "overflow_x": null,
            "grid_auto_flow": null,
            "grid_area": null,
            "grid_template_columns": null,
            "flex": null,
            "_model_name": "LayoutModel",
            "justify_items": null,
            "grid_row": null,
            "max_height": null,
            "align_content": null,
            "visibility": null,
            "align_self": null,
            "height": null,
            "min_height": null,
            "padding": null,
            "grid_auto_rows": null,
            "grid_gap": null,
            "max_width": null,
            "order": null,
            "_view_module_version": "1.2.0",
            "grid_template_areas": null,
            "object_position": null,
            "object_fit": null,
            "grid_auto_columns": null,
            "margin": null,
            "display": "inline-flex",
            "left": null
          }
        },
        "1010b17d96c847d5956e7eda47c925c2": {
          "model_module": "@jupyter-widgets/controls",
          "model_name": "FloatProgressModel",
          "state": {
            "_view_name": "ProgressView",
            "style": "IPY_MODEL_c690dad7f42f4423927aacd99e82da49",
            "_dom_classes": [],
            "description": "Epoch 1:  29%",
            "_model_name": "FloatProgressModel",
            "bar_style": "danger",
            "max": 688,
            "_view_module": "@jupyter-widgets/controls",
            "_model_module_version": "1.5.0",
            "value": 200,
            "_view_count": null,
            "_view_module_version": "1.5.0",
            "orientation": "horizontal",
            "min": 0,
            "description_tooltip": null,
            "_model_module": "@jupyter-widgets/controls",
            "layout": "IPY_MODEL_0751685a8b914b85a229b13c4d639532"
          }
        },
        "6ba1531472284dcca543c4d45a65fa8e": {
          "model_module": "@jupyter-widgets/controls",
          "model_name": "HTMLModel",
          "state": {
            "_view_name": "HTMLView",
            "style": "IPY_MODEL_0bf54847a81b4c8388d0268af8d92187",
            "_dom_classes": [],
            "description": "",
            "_model_name": "HTMLModel",
            "placeholder": "​",
            "_view_module": "@jupyter-widgets/controls",
            "_model_module_version": "1.5.0",
            "value": " 200/688 [02:24&lt;05:51,  1.39it/s, loss=1.79e-05, v_num=2]",
            "_view_count": null,
            "_view_module_version": "1.5.0",
            "description_tooltip": null,
            "_model_module": "@jupyter-widgets/controls",
            "layout": "IPY_MODEL_900caa81d30443db9b046e1456e2d769"
          }
        },
        "c690dad7f42f4423927aacd99e82da49": {
          "model_module": "@jupyter-widgets/controls",
          "model_name": "ProgressStyleModel",
          "state": {
            "_view_name": "StyleView",
            "_model_name": "ProgressStyleModel",
            "description_width": "initial",
            "_view_module": "@jupyter-widgets/base",
            "_model_module_version": "1.5.0",
            "_view_count": null,
            "_view_module_version": "1.2.0",
            "bar_color": null,
            "_model_module": "@jupyter-widgets/controls"
          }
        },
        "0751685a8b914b85a229b13c4d639532": {
          "model_module": "@jupyter-widgets/base",
          "model_name": "LayoutModel",
          "state": {
            "_view_name": "LayoutView",
            "grid_template_rows": null,
            "right": null,
            "justify_content": null,
            "_view_module": "@jupyter-widgets/base",
            "overflow": null,
            "_model_module_version": "1.2.0",
            "_view_count": null,
            "flex_flow": null,
            "width": null,
            "min_width": null,
            "border": null,
            "align_items": null,
            "bottom": null,
            "_model_module": "@jupyter-widgets/base",
            "top": null,
            "grid_column": null,
            "overflow_y": null,
            "overflow_x": null,
            "grid_auto_flow": null,
            "grid_area": null,
            "grid_template_columns": null,
            "flex": "2",
            "_model_name": "LayoutModel",
            "justify_items": null,
            "grid_row": null,
            "max_height": null,
            "align_content": null,
            "visibility": null,
            "align_self": null,
            "height": null,
            "min_height": null,
            "padding": null,
            "grid_auto_rows": null,
            "grid_gap": null,
            "max_width": null,
            "order": null,
            "_view_module_version": "1.2.0",
            "grid_template_areas": null,
            "object_position": null,
            "object_fit": null,
            "grid_auto_columns": null,
            "margin": null,
            "display": null,
            "left": null
          }
        },
        "0bf54847a81b4c8388d0268af8d92187": {
          "model_module": "@jupyter-widgets/controls",
          "model_name": "DescriptionStyleModel",
          "state": {
            "_view_name": "StyleView",
            "_model_name": "DescriptionStyleModel",
            "description_width": "",
            "_view_module": "@jupyter-widgets/base",
            "_model_module_version": "1.5.0",
            "_view_count": null,
            "_view_module_version": "1.2.0",
            "_model_module": "@jupyter-widgets/controls"
          }
        },
        "900caa81d30443db9b046e1456e2d769": {
          "model_module": "@jupyter-widgets/base",
          "model_name": "LayoutModel",
          "state": {
            "_view_name": "LayoutView",
            "grid_template_rows": null,
            "right": null,
            "justify_content": null,
            "_view_module": "@jupyter-widgets/base",
            "overflow": null,
            "_model_module_version": "1.2.0",
            "_view_count": null,
            "flex_flow": null,
            "width": null,
            "min_width": null,
            "border": null,
            "align_items": null,
            "bottom": null,
            "_model_module": "@jupyter-widgets/base",
            "top": null,
            "grid_column": null,
            "overflow_y": null,
            "overflow_x": null,
            "grid_auto_flow": null,
            "grid_area": null,
            "grid_template_columns": null,
            "flex": null,
            "_model_name": "LayoutModel",
            "justify_items": null,
            "grid_row": null,
            "max_height": null,
            "align_content": null,
            "visibility": null,
            "align_self": null,
            "height": null,
            "min_height": null,
            "padding": null,
            "grid_auto_rows": null,
            "grid_gap": null,
            "max_width": null,
            "order": null,
            "_view_module_version": "1.2.0",
            "grid_template_areas": null,
            "object_position": null,
            "object_fit": null,
            "grid_auto_columns": null,
            "margin": null,
            "display": null,
            "left": null
          }
        },
        "5f6fafba06eb46d988553e4010e9075d": {
          "model_module": "@jupyter-widgets/controls",
          "model_name": "HBoxModel",
          "state": {
            "_view_name": "HBoxView",
            "_dom_classes": [],
            "_model_name": "HBoxModel",
            "_view_module": "@jupyter-widgets/controls",
            "_model_module_version": "1.5.0",
            "_view_count": null,
            "_view_module_version": "1.5.0",
            "box_style": "",
            "layout": "IPY_MODEL_3d40afd401a649938d01a9b0e46ef376",
            "_model_module": "@jupyter-widgets/controls",
            "children": [
              "IPY_MODEL_78a30a3bfb2a4aa39e445fa8325efffd",
              "IPY_MODEL_1fe35e8b55c44a95a3e32e1baa4e239c"
            ]
          }
        },
        "3d40afd401a649938d01a9b0e46ef376": {
          "model_module": "@jupyter-widgets/base",
          "model_name": "LayoutModel",
          "state": {
            "_view_name": "LayoutView",
            "grid_template_rows": null,
            "right": null,
            "justify_content": null,
            "_view_module": "@jupyter-widgets/base",
            "overflow": null,
            "_model_module_version": "1.2.0",
            "_view_count": null,
            "flex_flow": "row wrap",
            "width": "100%",
            "min_width": null,
            "border": null,
            "align_items": null,
            "bottom": null,
            "_model_module": "@jupyter-widgets/base",
            "top": null,
            "grid_column": null,
            "overflow_y": null,
            "overflow_x": null,
            "grid_auto_flow": null,
            "grid_area": null,
            "grid_template_columns": null,
            "flex": null,
            "_model_name": "LayoutModel",
            "justify_items": null,
            "grid_row": null,
            "max_height": null,
            "align_content": null,
            "visibility": null,
            "align_self": null,
            "height": null,
            "min_height": null,
            "padding": null,
            "grid_auto_rows": null,
            "grid_gap": null,
            "max_width": null,
            "order": null,
            "_view_module_version": "1.2.0",
            "grid_template_areas": null,
            "object_position": null,
            "object_fit": null,
            "grid_auto_columns": null,
            "margin": null,
            "display": "inline-flex",
            "left": null
          }
        },
        "78a30a3bfb2a4aa39e445fa8325efffd": {
          "model_module": "@jupyter-widgets/controls",
          "model_name": "FloatProgressModel",
          "state": {
            "_view_name": "ProgressView",
            "style": "IPY_MODEL_c7b6d1a12dca475b86d508dcbf647485",
            "_dom_classes": [],
            "description": "Validating: 100%",
            "_model_name": "FloatProgressModel",
            "bar_style": "info",
            "max": 63,
            "_view_module": "@jupyter-widgets/controls",
            "_model_module_version": "1.5.0",
            "value": 63,
            "_view_count": null,
            "_view_module_version": "1.5.0",
            "orientation": "horizontal",
            "min": 0,
            "description_tooltip": null,
            "_model_module": "@jupyter-widgets/controls",
            "layout": "IPY_MODEL_dee4f0dad8f943c1b2f08e0713d996a1"
          }
        },
        "1fe35e8b55c44a95a3e32e1baa4e239c": {
          "model_module": "@jupyter-widgets/controls",
          "model_name": "HTMLModel",
          "state": {
            "_view_name": "HTMLView",
            "style": "IPY_MODEL_523e48c26dc84db8a37dfad5aaf2e703",
            "_dom_classes": [],
            "description": "",
            "_model_name": "HTMLModel",
            "placeholder": "​",
            "_view_module": "@jupyter-widgets/controls",
            "_model_module_version": "1.5.0",
            "value": " 63/63 [00:19&lt;00:00,  3.33it/s]",
            "_view_count": null,
            "_view_module_version": "1.5.0",
            "description_tooltip": null,
            "_model_module": "@jupyter-widgets/controls",
            "layout": "IPY_MODEL_134003a0fc184c48b84910b9c34ce90f"
          }
        },
        "c7b6d1a12dca475b86d508dcbf647485": {
          "model_module": "@jupyter-widgets/controls",
          "model_name": "ProgressStyleModel",
          "state": {
            "_view_name": "StyleView",
            "_model_name": "ProgressStyleModel",
            "description_width": "initial",
            "_view_module": "@jupyter-widgets/base",
            "_model_module_version": "1.5.0",
            "_view_count": null,
            "_view_module_version": "1.2.0",
            "bar_color": null,
            "_model_module": "@jupyter-widgets/controls"
          }
        },
        "dee4f0dad8f943c1b2f08e0713d996a1": {
          "model_module": "@jupyter-widgets/base",
          "model_name": "LayoutModel",
          "state": {
            "_view_name": "LayoutView",
            "grid_template_rows": null,
            "right": null,
            "justify_content": null,
            "_view_module": "@jupyter-widgets/base",
            "overflow": null,
            "_model_module_version": "1.2.0",
            "_view_count": null,
            "flex_flow": null,
            "width": null,
            "min_width": null,
            "border": null,
            "align_items": null,
            "bottom": null,
            "_model_module": "@jupyter-widgets/base",
            "top": null,
            "grid_column": null,
            "overflow_y": null,
            "overflow_x": null,
            "grid_auto_flow": null,
            "grid_area": null,
            "grid_template_columns": null,
            "flex": "2",
            "_model_name": "LayoutModel",
            "justify_items": null,
            "grid_row": null,
            "max_height": null,
            "align_content": null,
            "visibility": null,
            "align_self": null,
            "height": null,
            "min_height": null,
            "padding": null,
            "grid_auto_rows": null,
            "grid_gap": null,
            "max_width": null,
            "order": null,
            "_view_module_version": "1.2.0",
            "grid_template_areas": null,
            "object_position": null,
            "object_fit": null,
            "grid_auto_columns": null,
            "margin": null,
            "display": null,
            "left": null
          }
        },
        "523e48c26dc84db8a37dfad5aaf2e703": {
          "model_module": "@jupyter-widgets/controls",
          "model_name": "DescriptionStyleModel",
          "state": {
            "_view_name": "StyleView",
            "_model_name": "DescriptionStyleModel",
            "description_width": "",
            "_view_module": "@jupyter-widgets/base",
            "_model_module_version": "1.5.0",
            "_view_count": null,
            "_view_module_version": "1.2.0",
            "_model_module": "@jupyter-widgets/controls"
          }
        },
        "134003a0fc184c48b84910b9c34ce90f": {
          "model_module": "@jupyter-widgets/base",
          "model_name": "LayoutModel",
          "state": {
            "_view_name": "LayoutView",
            "grid_template_rows": null,
            "right": null,
            "justify_content": null,
            "_view_module": "@jupyter-widgets/base",
            "overflow": null,
            "_model_module_version": "1.2.0",
            "_view_count": null,
            "flex_flow": null,
            "width": null,
            "min_width": null,
            "border": null,
            "align_items": null,
            "bottom": null,
            "_model_module": "@jupyter-widgets/base",
            "top": null,
            "grid_column": null,
            "overflow_y": null,
            "overflow_x": null,
            "grid_auto_flow": null,
            "grid_area": null,
            "grid_template_columns": null,
            "flex": null,
            "_model_name": "LayoutModel",
            "justify_items": null,
            "grid_row": null,
            "max_height": null,
            "align_content": null,
            "visibility": null,
            "align_self": null,
            "height": null,
            "min_height": null,
            "padding": null,
            "grid_auto_rows": null,
            "grid_gap": null,
            "max_width": null,
            "order": null,
            "_view_module_version": "1.2.0",
            "grid_template_areas": null,
            "object_position": null,
            "object_fit": null,
            "grid_auto_columns": null,
            "margin": null,
            "display": null,
            "left": null
          }
        },
        "7d781237e85447a8968528d2c35d3611": {
          "model_module": "@jupyter-widgets/controls",
          "model_name": "HBoxModel",
          "state": {
            "_view_name": "HBoxView",
            "_dom_classes": [],
            "_model_name": "HBoxModel",
            "_view_module": "@jupyter-widgets/controls",
            "_model_module_version": "1.5.0",
            "_view_count": null,
            "_view_module_version": "1.5.0",
            "box_style": "",
            "layout": "IPY_MODEL_6feeceb6ee26415c994ac65c3f45abc0",
            "_model_module": "@jupyter-widgets/controls",
            "children": [
              "IPY_MODEL_71d346a5893c43fd8b21abc07ed46cc5",
              "IPY_MODEL_352effadd5df4aaab931a4d984021925"
            ]
          }
        },
        "6feeceb6ee26415c994ac65c3f45abc0": {
          "model_module": "@jupyter-widgets/base",
          "model_name": "LayoutModel",
          "state": {
            "_view_name": "LayoutView",
            "grid_template_rows": null,
            "right": null,
            "justify_content": null,
            "_view_module": "@jupyter-widgets/base",
            "overflow": null,
            "_model_module_version": "1.2.0",
            "_view_count": null,
            "flex_flow": "row wrap",
            "width": "100%",
            "min_width": null,
            "border": null,
            "align_items": null,
            "bottom": null,
            "_model_module": "@jupyter-widgets/base",
            "top": null,
            "grid_column": null,
            "overflow_y": null,
            "overflow_x": null,
            "grid_auto_flow": null,
            "grid_area": null,
            "grid_template_columns": null,
            "flex": null,
            "_model_name": "LayoutModel",
            "justify_items": null,
            "grid_row": null,
            "max_height": null,
            "align_content": null,
            "visibility": null,
            "align_self": null,
            "height": null,
            "min_height": null,
            "padding": null,
            "grid_auto_rows": null,
            "grid_gap": null,
            "max_width": null,
            "order": null,
            "_view_module_version": "1.2.0",
            "grid_template_areas": null,
            "object_position": null,
            "object_fit": null,
            "grid_auto_columns": null,
            "margin": null,
            "display": "inline-flex",
            "left": null
          }
        },
        "71d346a5893c43fd8b21abc07ed46cc5": {
          "model_module": "@jupyter-widgets/controls",
          "model_name": "FloatProgressModel",
          "state": {
            "_view_name": "ProgressView",
            "style": "IPY_MODEL_e9966863a8854327af9c1b6de1d23ec4",
            "_dom_classes": [],
            "description": "Testing: 100%",
            "_model_name": "FloatProgressModel",
            "bar_style": "success",
            "max": 1,
            "_view_module": "@jupyter-widgets/controls",
            "_model_module_version": "1.5.0",
            "value": 1,
            "_view_count": null,
            "_view_module_version": "1.5.0",
            "orientation": "horizontal",
            "min": 0,
            "description_tooltip": null,
            "_model_module": "@jupyter-widgets/controls",
            "layout": "IPY_MODEL_b631f5c88c794ff5989ca1d8036825ad"
          }
        },
        "352effadd5df4aaab931a4d984021925": {
          "model_module": "@jupyter-widgets/controls",
          "model_name": "HTMLModel",
          "state": {
            "_view_name": "HTMLView",
            "style": "IPY_MODEL_780e2939e0b54741a991f75949624cc8",
            "_dom_classes": [],
            "description": "",
            "_model_name": "HTMLModel",
            "placeholder": "​",
            "_view_module": "@jupyter-widgets/controls",
            "_model_module_version": "1.5.0",
            "value": " 63/63 [00:19&lt;00:00,  3.26it/s]",
            "_view_count": null,
            "_view_module_version": "1.5.0",
            "description_tooltip": null,
            "_model_module": "@jupyter-widgets/controls",
            "layout": "IPY_MODEL_67a82f4b1eeb4062a9ca711afa7c4278"
          }
        },
        "e9966863a8854327af9c1b6de1d23ec4": {
          "model_module": "@jupyter-widgets/controls",
          "model_name": "ProgressStyleModel",
          "state": {
            "_view_name": "StyleView",
            "_model_name": "ProgressStyleModel",
            "description_width": "initial",
            "_view_module": "@jupyter-widgets/base",
            "_model_module_version": "1.5.0",
            "_view_count": null,
            "_view_module_version": "1.2.0",
            "bar_color": null,
            "_model_module": "@jupyter-widgets/controls"
          }
        },
        "b631f5c88c794ff5989ca1d8036825ad": {
          "model_module": "@jupyter-widgets/base",
          "model_name": "LayoutModel",
          "state": {
            "_view_name": "LayoutView",
            "grid_template_rows": null,
            "right": null,
            "justify_content": null,
            "_view_module": "@jupyter-widgets/base",
            "overflow": null,
            "_model_module_version": "1.2.0",
            "_view_count": null,
            "flex_flow": null,
            "width": null,
            "min_width": null,
            "border": null,
            "align_items": null,
            "bottom": null,
            "_model_module": "@jupyter-widgets/base",
            "top": null,
            "grid_column": null,
            "overflow_y": null,
            "overflow_x": null,
            "grid_auto_flow": null,
            "grid_area": null,
            "grid_template_columns": null,
            "flex": "2",
            "_model_name": "LayoutModel",
            "justify_items": null,
            "grid_row": null,
            "max_height": null,
            "align_content": null,
            "visibility": null,
            "align_self": null,
            "height": null,
            "min_height": null,
            "padding": null,
            "grid_auto_rows": null,
            "grid_gap": null,
            "max_width": null,
            "order": null,
            "_view_module_version": "1.2.0",
            "grid_template_areas": null,
            "object_position": null,
            "object_fit": null,
            "grid_auto_columns": null,
            "margin": null,
            "display": null,
            "left": null
          }
        },
        "780e2939e0b54741a991f75949624cc8": {
          "model_module": "@jupyter-widgets/controls",
          "model_name": "DescriptionStyleModel",
          "state": {
            "_view_name": "StyleView",
            "_model_name": "DescriptionStyleModel",
            "description_width": "",
            "_view_module": "@jupyter-widgets/base",
            "_model_module_version": "1.5.0",
            "_view_count": null,
            "_view_module_version": "1.2.0",
            "_model_module": "@jupyter-widgets/controls"
          }
        },
        "67a82f4b1eeb4062a9ca711afa7c4278": {
          "model_module": "@jupyter-widgets/base",
          "model_name": "LayoutModel",
          "state": {
            "_view_name": "LayoutView",
            "grid_template_rows": null,
            "right": null,
            "justify_content": null,
            "_view_module": "@jupyter-widgets/base",
            "overflow": null,
            "_model_module_version": "1.2.0",
            "_view_count": null,
            "flex_flow": null,
            "width": null,
            "min_width": null,
            "border": null,
            "align_items": null,
            "bottom": null,
            "_model_module": "@jupyter-widgets/base",
            "top": null,
            "grid_column": null,
            "overflow_y": null,
            "overflow_x": null,
            "grid_auto_flow": null,
            "grid_area": null,
            "grid_template_columns": null,
            "flex": null,
            "_model_name": "LayoutModel",
            "justify_items": null,
            "grid_row": null,
            "max_height": null,
            "align_content": null,
            "visibility": null,
            "align_self": null,
            "height": null,
            "min_height": null,
            "padding": null,
            "grid_auto_rows": null,
            "grid_gap": null,
            "max_width": null,
            "order": null,
            "_view_module_version": "1.2.0",
            "grid_template_areas": null,
            "object_position": null,
            "object_fit": null,
            "grid_auto_columns": null,
            "margin": null,
            "display": null,
            "left": null
          }
        },
        "3cb6d281fd434a8c94cb861b7d028757": {
          "model_module": "@jupyter-widgets/controls",
          "model_name": "HBoxModel",
          "state": {
            "_view_name": "HBoxView",
            "_dom_classes": [],
            "_model_name": "HBoxModel",
            "_view_module": "@jupyter-widgets/controls",
            "_model_module_version": "1.5.0",
            "_view_count": null,
            "_view_module_version": "1.5.0",
            "box_style": "",
            "layout": "IPY_MODEL_cebf1a9d0b5b4e638c908c1f03ebac56",
            "_model_module": "@jupyter-widgets/controls",
            "children": [
              "IPY_MODEL_41ccfba0b1f047f48848c8970dd21f4f",
              "IPY_MODEL_13a0de2a3bd7447cb1dbf277cd8daff4"
            ]
          }
        },
        "cebf1a9d0b5b4e638c908c1f03ebac56": {
          "model_module": "@jupyter-widgets/base",
          "model_name": "LayoutModel",
          "state": {
            "_view_name": "LayoutView",
            "grid_template_rows": null,
            "right": null,
            "justify_content": null,
            "_view_module": "@jupyter-widgets/base",
            "overflow": null,
            "_model_module_version": "1.2.0",
            "_view_count": null,
            "flex_flow": "row wrap",
            "width": "100%",
            "min_width": null,
            "border": null,
            "align_items": null,
            "bottom": null,
            "_model_module": "@jupyter-widgets/base",
            "top": null,
            "grid_column": null,
            "overflow_y": null,
            "overflow_x": null,
            "grid_auto_flow": null,
            "grid_area": null,
            "grid_template_columns": null,
            "flex": null,
            "_model_name": "LayoutModel",
            "justify_items": null,
            "grid_row": null,
            "max_height": null,
            "align_content": null,
            "visibility": null,
            "align_self": null,
            "height": null,
            "min_height": null,
            "padding": null,
            "grid_auto_rows": null,
            "grid_gap": null,
            "max_width": null,
            "order": null,
            "_view_module_version": "1.2.0",
            "grid_template_areas": null,
            "object_position": null,
            "object_fit": null,
            "grid_auto_columns": null,
            "margin": null,
            "display": "inline-flex",
            "left": null
          }
        },
        "41ccfba0b1f047f48848c8970dd21f4f": {
          "model_module": "@jupyter-widgets/controls",
          "model_name": "FloatProgressModel",
          "state": {
            "_view_name": "ProgressView",
            "style": "IPY_MODEL_f0068b590b4b4819b6a1cc1ca2ab06d3",
            "_dom_classes": [],
            "description": "Predicting: ",
            "_model_name": "FloatProgressModel",
            "bar_style": "success",
            "max": 1,
            "_view_module": "@jupyter-widgets/controls",
            "_model_module_version": "1.5.0",
            "value": 1,
            "_view_count": null,
            "_view_module_version": "1.5.0",
            "orientation": "horizontal",
            "min": 0,
            "description_tooltip": null,
            "_model_module": "@jupyter-widgets/controls",
            "layout": "IPY_MODEL_8d20cede58794dacb02721d16a825362"
          }
        },
        "13a0de2a3bd7447cb1dbf277cd8daff4": {
          "model_module": "@jupyter-widgets/controls",
          "model_name": "HTMLModel",
          "state": {
            "_view_name": "HTMLView",
            "style": "IPY_MODEL_c7f0d4126b254f5f9350d9a352ff95b0",
            "_dom_classes": [],
            "description": "",
            "_model_name": "HTMLModel",
            "placeholder": "​",
            "_view_module": "@jupyter-widgets/controls",
            "_model_module_version": "1.5.0",
            "value": " 206/? [00:46&lt;00:00,  4.43it/s]",
            "_view_count": null,
            "_view_module_version": "1.5.0",
            "description_tooltip": null,
            "_model_module": "@jupyter-widgets/controls",
            "layout": "IPY_MODEL_0d689ff08b58458e94790239f7b45328"
          }
        },
        "f0068b590b4b4819b6a1cc1ca2ab06d3": {
          "model_module": "@jupyter-widgets/controls",
          "model_name": "ProgressStyleModel",
          "state": {
            "_view_name": "StyleView",
            "_model_name": "ProgressStyleModel",
            "description_width": "initial",
            "_view_module": "@jupyter-widgets/base",
            "_model_module_version": "1.5.0",
            "_view_count": null,
            "_view_module_version": "1.2.0",
            "bar_color": null,
            "_model_module": "@jupyter-widgets/controls"
          }
        },
        "8d20cede58794dacb02721d16a825362": {
          "model_module": "@jupyter-widgets/base",
          "model_name": "LayoutModel",
          "state": {
            "_view_name": "LayoutView",
            "grid_template_rows": null,
            "right": null,
            "justify_content": null,
            "_view_module": "@jupyter-widgets/base",
            "overflow": null,
            "_model_module_version": "1.2.0",
            "_view_count": null,
            "flex_flow": null,
            "width": null,
            "min_width": null,
            "border": null,
            "align_items": null,
            "bottom": null,
            "_model_module": "@jupyter-widgets/base",
            "top": null,
            "grid_column": null,
            "overflow_y": null,
            "overflow_x": null,
            "grid_auto_flow": null,
            "grid_area": null,
            "grid_template_columns": null,
            "flex": "2",
            "_model_name": "LayoutModel",
            "justify_items": null,
            "grid_row": null,
            "max_height": null,
            "align_content": null,
            "visibility": null,
            "align_self": null,
            "height": null,
            "min_height": null,
            "padding": null,
            "grid_auto_rows": null,
            "grid_gap": null,
            "max_width": null,
            "order": null,
            "_view_module_version": "1.2.0",
            "grid_template_areas": null,
            "object_position": null,
            "object_fit": null,
            "grid_auto_columns": null,
            "margin": null,
            "display": null,
            "left": null
          }
        },
        "c7f0d4126b254f5f9350d9a352ff95b0": {
          "model_module": "@jupyter-widgets/controls",
          "model_name": "DescriptionStyleModel",
          "state": {
            "_view_name": "StyleView",
            "_model_name": "DescriptionStyleModel",
            "description_width": "",
            "_view_module": "@jupyter-widgets/base",
            "_model_module_version": "1.5.0",
            "_view_count": null,
            "_view_module_version": "1.2.0",
            "_model_module": "@jupyter-widgets/controls"
          }
        },
        "0d689ff08b58458e94790239f7b45328": {
          "model_module": "@jupyter-widgets/base",
          "model_name": "LayoutModel",
          "state": {
            "_view_name": "LayoutView",
            "grid_template_rows": null,
            "right": null,
            "justify_content": null,
            "_view_module": "@jupyter-widgets/base",
            "overflow": null,
            "_model_module_version": "1.2.0",
            "_view_count": null,
            "flex_flow": null,
            "width": null,
            "min_width": null,
            "border": null,
            "align_items": null,
            "bottom": null,
            "_model_module": "@jupyter-widgets/base",
            "top": null,
            "grid_column": null,
            "overflow_y": null,
            "overflow_x": null,
            "grid_auto_flow": null,
            "grid_area": null,
            "grid_template_columns": null,
            "flex": null,
            "_model_name": "LayoutModel",
            "justify_items": null,
            "grid_row": null,
            "max_height": null,
            "align_content": null,
            "visibility": null,
            "align_self": null,
            "height": null,
            "min_height": null,
            "padding": null,
            "grid_auto_rows": null,
            "grid_gap": null,
            "max_width": null,
            "order": null,
            "_view_module_version": "1.2.0",
            "grid_template_areas": null,
            "object_position": null,
            "object_fit": null,
            "grid_auto_columns": null,
            "margin": null,
            "display": null,
            "left": null
          }
        }
      }
    }
  },
  "cells": [
    {
      "cell_type": "code",
      "metadata": {
        "colab": {
          "base_uri": "https://localhost:8080/"
        },
        "id": "4-rtCARZEx7R",
        "outputId": "4f368add-93dc-4d61-e994-9559184133f0"
      },
      "source": [
        "!git clone https://github.com/derInformatiker/AIcrowd-AIBlitz7-Solution.git\n",
        "!pip install -r AIcrowd-AIBlitz7-Solution/challenge1/requirements.txt\n",
        "!pip install aicrowd-cli==0.1"
      ],
      "execution_count": 1,
      "outputs": [
        {
          "output_type": "stream",
          "text": [
            "fatal: destination path 'AIcrowd-AIBlitz7-Solution' already exists and is not an empty directory.\n",
            "Requirement already satisfied: pandas==1.0.5 in /usr/local/lib/python3.7/dist-packages (from -r AIcrowd-AIBlitz7-Solution/challenge1/requirements.txt (line 1)) (1.0.5)\n",
            "Requirement already satisfied: opencv-python==4.2.0.32 in /usr/local/lib/python3.7/dist-packages (from -r AIcrowd-AIBlitz7-Solution/challenge1/requirements.txt (line 2)) (4.2.0.32)\n",
            "Requirement already satisfied: pytorch-lightning==1.2.4 in /usr/local/lib/python3.7/dist-packages (from -r AIcrowd-AIBlitz7-Solution/challenge1/requirements.txt (line 3)) (1.2.4)\n",
            "Requirement already satisfied: efficientnet-pytorch==0.6.3 in /usr/local/lib/python3.7/dist-packages (from -r AIcrowd-AIBlitz7-Solution/challenge1/requirements.txt (line 4)) (0.6.3)\n",
            "Requirement already satisfied: albumentations==0.4.6 in /usr/local/lib/python3.7/dist-packages (from -r AIcrowd-AIBlitz7-Solution/challenge1/requirements.txt (line 5)) (0.4.6)\n",
            "Requirement already satisfied: pytz>=2017.2 in /usr/local/lib/python3.7/dist-packages (from pandas==1.0.5->-r AIcrowd-AIBlitz7-Solution/challenge1/requirements.txt (line 1)) (2018.9)\n",
            "Requirement already satisfied: numpy>=1.13.3 in /usr/local/lib/python3.7/dist-packages (from pandas==1.0.5->-r AIcrowd-AIBlitz7-Solution/challenge1/requirements.txt (line 1)) (1.19.5)\n",
            "Requirement already satisfied: python-dateutil>=2.6.1 in /usr/local/lib/python3.7/dist-packages (from pandas==1.0.5->-r AIcrowd-AIBlitz7-Solution/challenge1/requirements.txt (line 1)) (2.8.1)\n",
            "Requirement already satisfied: tensorboard>=2.2.0 in /usr/local/lib/python3.7/dist-packages (from pytorch-lightning==1.2.4->-r AIcrowd-AIBlitz7-Solution/challenge1/requirements.txt (line 3)) (2.4.1)\n",
            "Requirement already satisfied: fsspec[http]>=0.8.1 in /usr/local/lib/python3.7/dist-packages (from pytorch-lightning==1.2.4->-r AIcrowd-AIBlitz7-Solution/challenge1/requirements.txt (line 3)) (2021.4.0)\n",
            "Requirement already satisfied: future>=0.17.1 in /usr/local/lib/python3.7/dist-packages (from pytorch-lightning==1.2.4->-r AIcrowd-AIBlitz7-Solution/challenge1/requirements.txt (line 3)) (0.18.2)\n",
            "Requirement already satisfied: tqdm>=4.41.0 in /usr/local/lib/python3.7/dist-packages (from pytorch-lightning==1.2.4->-r AIcrowd-AIBlitz7-Solution/challenge1/requirements.txt (line 3)) (4.41.1)\n",
            "Requirement already satisfied: PyYAML!=5.4.*,>=5.1 in /usr/local/lib/python3.7/dist-packages (from pytorch-lightning==1.2.4->-r AIcrowd-AIBlitz7-Solution/challenge1/requirements.txt (line 3)) (5.3.1)\n",
            "Requirement already satisfied: torch>=1.4 in /usr/local/lib/python3.7/dist-packages (from pytorch-lightning==1.2.4->-r AIcrowd-AIBlitz7-Solution/challenge1/requirements.txt (line 3)) (1.8.1+cu101)\n",
            "Requirement already satisfied: imgaug>=0.4.0 in /usr/local/lib/python3.7/dist-packages (from albumentations==0.4.6->-r AIcrowd-AIBlitz7-Solution/challenge1/requirements.txt (line 5)) (0.4.0)\n",
            "Requirement already satisfied: scipy in /usr/local/lib/python3.7/dist-packages (from albumentations==0.4.6->-r AIcrowd-AIBlitz7-Solution/challenge1/requirements.txt (line 5)) (1.4.1)\n",
            "Requirement already satisfied: six>=1.5 in /usr/local/lib/python3.7/dist-packages (from python-dateutil>=2.6.1->pandas==1.0.5->-r AIcrowd-AIBlitz7-Solution/challenge1/requirements.txt (line 1)) (1.15.0)\n",
            "Requirement already satisfied: google-auth-oauthlib<0.5,>=0.4.1 in /usr/local/lib/python3.7/dist-packages (from tensorboard>=2.2.0->pytorch-lightning==1.2.4->-r AIcrowd-AIBlitz7-Solution/challenge1/requirements.txt (line 3)) (0.4.4)\n",
            "Requirement already satisfied: grpcio>=1.24.3 in /usr/local/lib/python3.7/dist-packages (from tensorboard>=2.2.0->pytorch-lightning==1.2.4->-r AIcrowd-AIBlitz7-Solution/challenge1/requirements.txt (line 3)) (1.32.0)\n",
            "Requirement already satisfied: protobuf>=3.6.0 in /usr/local/lib/python3.7/dist-packages (from tensorboard>=2.2.0->pytorch-lightning==1.2.4->-r AIcrowd-AIBlitz7-Solution/challenge1/requirements.txt (line 3)) (3.12.4)\n",
            "Requirement already satisfied: requests<3,>=2.21.0 in /usr/local/lib/python3.7/dist-packages (from tensorboard>=2.2.0->pytorch-lightning==1.2.4->-r AIcrowd-AIBlitz7-Solution/challenge1/requirements.txt (line 3)) (2.23.0)\n",
            "Requirement already satisfied: wheel>=0.26; python_version >= \"3\" in /usr/local/lib/python3.7/dist-packages (from tensorboard>=2.2.0->pytorch-lightning==1.2.4->-r AIcrowd-AIBlitz7-Solution/challenge1/requirements.txt (line 3)) (0.36.2)\n",
            "Requirement already satisfied: tensorboard-plugin-wit>=1.6.0 in /usr/local/lib/python3.7/dist-packages (from tensorboard>=2.2.0->pytorch-lightning==1.2.4->-r AIcrowd-AIBlitz7-Solution/challenge1/requirements.txt (line 3)) (1.8.0)\n",
            "Requirement already satisfied: werkzeug>=0.11.15 in /usr/local/lib/python3.7/dist-packages (from tensorboard>=2.2.0->pytorch-lightning==1.2.4->-r AIcrowd-AIBlitz7-Solution/challenge1/requirements.txt (line 3)) (1.0.1)\n",
            "Requirement already satisfied: setuptools>=41.0.0 in /usr/local/lib/python3.7/dist-packages (from tensorboard>=2.2.0->pytorch-lightning==1.2.4->-r AIcrowd-AIBlitz7-Solution/challenge1/requirements.txt (line 3)) (56.1.0)\n",
            "Requirement already satisfied: markdown>=2.6.8 in /usr/local/lib/python3.7/dist-packages (from tensorboard>=2.2.0->pytorch-lightning==1.2.4->-r AIcrowd-AIBlitz7-Solution/challenge1/requirements.txt (line 3)) (3.3.4)\n",
            "Requirement already satisfied: google-auth<2,>=1.6.3 in /usr/local/lib/python3.7/dist-packages (from tensorboard>=2.2.0->pytorch-lightning==1.2.4->-r AIcrowd-AIBlitz7-Solution/challenge1/requirements.txt (line 3)) (1.28.1)\n",
            "Requirement already satisfied: absl-py>=0.4 in /usr/local/lib/python3.7/dist-packages (from tensorboard>=2.2.0->pytorch-lightning==1.2.4->-r AIcrowd-AIBlitz7-Solution/challenge1/requirements.txt (line 3)) (0.12.0)\n",
            "Requirement already satisfied: aiohttp; extra == \"http\" in /usr/local/lib/python3.7/dist-packages (from fsspec[http]>=0.8.1->pytorch-lightning==1.2.4->-r AIcrowd-AIBlitz7-Solution/challenge1/requirements.txt (line 3)) (3.7.4.post0)\n",
            "Requirement already satisfied: typing-extensions in /usr/local/lib/python3.7/dist-packages (from torch>=1.4->pytorch-lightning==1.2.4->-r AIcrowd-AIBlitz7-Solution/challenge1/requirements.txt (line 3)) (3.7.4.3)\n",
            "Requirement already satisfied: scikit-image>=0.14.2 in /usr/local/lib/python3.7/dist-packages (from imgaug>=0.4.0->albumentations==0.4.6->-r AIcrowd-AIBlitz7-Solution/challenge1/requirements.txt (line 5)) (0.16.2)\n",
            "Requirement already satisfied: matplotlib in /usr/local/lib/python3.7/dist-packages (from imgaug>=0.4.0->albumentations==0.4.6->-r AIcrowd-AIBlitz7-Solution/challenge1/requirements.txt (line 5)) (3.2.2)\n",
            "Requirement already satisfied: Pillow in /usr/local/lib/python3.7/dist-packages (from imgaug>=0.4.0->albumentations==0.4.6->-r AIcrowd-AIBlitz7-Solution/challenge1/requirements.txt (line 5)) (7.1.2)\n",
            "Requirement already satisfied: imageio in /usr/local/lib/python3.7/dist-packages (from imgaug>=0.4.0->albumentations==0.4.6->-r AIcrowd-AIBlitz7-Solution/challenge1/requirements.txt (line 5)) (2.4.1)\n",
            "Requirement already satisfied: Shapely in /usr/local/lib/python3.7/dist-packages (from imgaug>=0.4.0->albumentations==0.4.6->-r AIcrowd-AIBlitz7-Solution/challenge1/requirements.txt (line 5)) (1.7.1)\n",
            "Requirement already satisfied: requests-oauthlib>=0.7.0 in /usr/local/lib/python3.7/dist-packages (from google-auth-oauthlib<0.5,>=0.4.1->tensorboard>=2.2.0->pytorch-lightning==1.2.4->-r AIcrowd-AIBlitz7-Solution/challenge1/requirements.txt (line 3)) (1.3.0)\n",
            "Requirement already satisfied: chardet<4,>=3.0.2 in /usr/local/lib/python3.7/dist-packages (from requests<3,>=2.21.0->tensorboard>=2.2.0->pytorch-lightning==1.2.4->-r AIcrowd-AIBlitz7-Solution/challenge1/requirements.txt (line 3)) (3.0.4)\n",
            "Requirement already satisfied: urllib3!=1.25.0,!=1.25.1,<1.26,>=1.21.1 in /usr/local/lib/python3.7/dist-packages (from requests<3,>=2.21.0->tensorboard>=2.2.0->pytorch-lightning==1.2.4->-r AIcrowd-AIBlitz7-Solution/challenge1/requirements.txt (line 3)) (1.24.3)\n",
            "Requirement already satisfied: certifi>=2017.4.17 in /usr/local/lib/python3.7/dist-packages (from requests<3,>=2.21.0->tensorboard>=2.2.0->pytorch-lightning==1.2.4->-r AIcrowd-AIBlitz7-Solution/challenge1/requirements.txt (line 3)) (2020.12.5)\n",
            "Requirement already satisfied: idna<3,>=2.5 in /usr/local/lib/python3.7/dist-packages (from requests<3,>=2.21.0->tensorboard>=2.2.0->pytorch-lightning==1.2.4->-r AIcrowd-AIBlitz7-Solution/challenge1/requirements.txt (line 3)) (2.10)\n",
            "Requirement already satisfied: importlib-metadata; python_version < \"3.8\" in /usr/local/lib/python3.7/dist-packages (from markdown>=2.6.8->tensorboard>=2.2.0->pytorch-lightning==1.2.4->-r AIcrowd-AIBlitz7-Solution/challenge1/requirements.txt (line 3)) (3.10.1)\n",
            "Requirement already satisfied: cachetools<5.0,>=2.0.0 in /usr/local/lib/python3.7/dist-packages (from google-auth<2,>=1.6.3->tensorboard>=2.2.0->pytorch-lightning==1.2.4->-r AIcrowd-AIBlitz7-Solution/challenge1/requirements.txt (line 3)) (4.2.1)\n",
            "Requirement already satisfied: pyasn1-modules>=0.2.1 in /usr/local/lib/python3.7/dist-packages (from google-auth<2,>=1.6.3->tensorboard>=2.2.0->pytorch-lightning==1.2.4->-r AIcrowd-AIBlitz7-Solution/challenge1/requirements.txt (line 3)) (0.2.8)\n",
            "Requirement already satisfied: rsa<5,>=3.1.4; python_version >= \"3.6\" in /usr/local/lib/python3.7/dist-packages (from google-auth<2,>=1.6.3->tensorboard>=2.2.0->pytorch-lightning==1.2.4->-r AIcrowd-AIBlitz7-Solution/challenge1/requirements.txt (line 3)) (4.7.2)\n",
            "Requirement already satisfied: async-timeout<4.0,>=3.0 in /usr/local/lib/python3.7/dist-packages (from aiohttp; extra == \"http\"->fsspec[http]>=0.8.1->pytorch-lightning==1.2.4->-r AIcrowd-AIBlitz7-Solution/challenge1/requirements.txt (line 3)) (3.0.1)\n",
            "Requirement already satisfied: attrs>=17.3.0 in /usr/local/lib/python3.7/dist-packages (from aiohttp; extra == \"http\"->fsspec[http]>=0.8.1->pytorch-lightning==1.2.4->-r AIcrowd-AIBlitz7-Solution/challenge1/requirements.txt (line 3)) (20.3.0)\n",
            "Requirement already satisfied: yarl<2.0,>=1.0 in /usr/local/lib/python3.7/dist-packages (from aiohttp; extra == \"http\"->fsspec[http]>=0.8.1->pytorch-lightning==1.2.4->-r AIcrowd-AIBlitz7-Solution/challenge1/requirements.txt (line 3)) (1.6.3)\n",
            "Requirement already satisfied: multidict<7.0,>=4.5 in /usr/local/lib/python3.7/dist-packages (from aiohttp; extra == \"http\"->fsspec[http]>=0.8.1->pytorch-lightning==1.2.4->-r AIcrowd-AIBlitz7-Solution/challenge1/requirements.txt (line 3)) (5.1.0)\n",
            "Requirement already satisfied: networkx>=2.0 in /usr/local/lib/python3.7/dist-packages (from scikit-image>=0.14.2->imgaug>=0.4.0->albumentations==0.4.6->-r AIcrowd-AIBlitz7-Solution/challenge1/requirements.txt (line 5)) (2.5.1)\n",
            "Requirement already satisfied: PyWavelets>=0.4.0 in /usr/local/lib/python3.7/dist-packages (from scikit-image>=0.14.2->imgaug>=0.4.0->albumentations==0.4.6->-r AIcrowd-AIBlitz7-Solution/challenge1/requirements.txt (line 5)) (1.1.1)\n",
            "Requirement already satisfied: kiwisolver>=1.0.1 in /usr/local/lib/python3.7/dist-packages (from matplotlib->imgaug>=0.4.0->albumentations==0.4.6->-r AIcrowd-AIBlitz7-Solution/challenge1/requirements.txt (line 5)) (1.3.1)\n",
            "Requirement already satisfied: cycler>=0.10 in /usr/local/lib/python3.7/dist-packages (from matplotlib->imgaug>=0.4.0->albumentations==0.4.6->-r AIcrowd-AIBlitz7-Solution/challenge1/requirements.txt (line 5)) (0.10.0)\n",
            "Requirement already satisfied: pyparsing!=2.0.4,!=2.1.2,!=2.1.6,>=2.0.1 in /usr/local/lib/python3.7/dist-packages (from matplotlib->imgaug>=0.4.0->albumentations==0.4.6->-r AIcrowd-AIBlitz7-Solution/challenge1/requirements.txt (line 5)) (2.4.7)\n",
            "Requirement already satisfied: oauthlib>=3.0.0 in /usr/local/lib/python3.7/dist-packages (from requests-oauthlib>=0.7.0->google-auth-oauthlib<0.5,>=0.4.1->tensorboard>=2.2.0->pytorch-lightning==1.2.4->-r AIcrowd-AIBlitz7-Solution/challenge1/requirements.txt (line 3)) (3.1.0)\n",
            "Requirement already satisfied: zipp>=0.5 in /usr/local/lib/python3.7/dist-packages (from importlib-metadata; python_version < \"3.8\"->markdown>=2.6.8->tensorboard>=2.2.0->pytorch-lightning==1.2.4->-r AIcrowd-AIBlitz7-Solution/challenge1/requirements.txt (line 3)) (3.4.1)\n",
            "Requirement already satisfied: pyasn1<0.5.0,>=0.4.6 in /usr/local/lib/python3.7/dist-packages (from pyasn1-modules>=0.2.1->google-auth<2,>=1.6.3->tensorboard>=2.2.0->pytorch-lightning==1.2.4->-r AIcrowd-AIBlitz7-Solution/challenge1/requirements.txt (line 3)) (0.4.8)\n",
            "Requirement already satisfied: decorator<5,>=4.3 in /usr/local/lib/python3.7/dist-packages (from networkx>=2.0->scikit-image>=0.14.2->imgaug>=0.4.0->albumentations==0.4.6->-r AIcrowd-AIBlitz7-Solution/challenge1/requirements.txt (line 5)) (4.4.2)\n",
            "Requirement already satisfied: aicrowd-cli==0.1 in /usr/local/lib/python3.7/dist-packages (0.1.0)\n",
            "Requirement already satisfied: click<8,>=7.1.2 in /usr/local/lib/python3.7/dist-packages (from aicrowd-cli==0.1) (7.1.2)\n",
            "Requirement already satisfied: gitpython in /usr/local/lib/python3.7/dist-packages (from aicrowd-cli==0.1) (3.1.14)\n",
            "Requirement already satisfied: requests in /usr/local/lib/python3.7/dist-packages (from aicrowd-cli==0.1) (2.23.0)\n",
            "Requirement already satisfied: tqdm in /usr/local/lib/python3.7/dist-packages (from aicrowd-cli==0.1) (4.41.1)\n",
            "Requirement already satisfied: toml in /usr/local/lib/python3.7/dist-packages (from aicrowd-cli==0.1) (0.10.2)\n",
            "Requirement already satisfied: rich in /usr/local/lib/python3.7/dist-packages (from aicrowd-cli==0.1) (10.1.0)\n",
            "Requirement already satisfied: requests-toolbelt in /usr/local/lib/python3.7/dist-packages (from aicrowd-cli==0.1) (0.9.1)\n",
            "Requirement already satisfied: gitdb<5,>=4.0.1 in /usr/local/lib/python3.7/dist-packages (from gitpython->aicrowd-cli==0.1) (4.0.7)\n",
            "Requirement already satisfied: chardet<4,>=3.0.2 in /usr/local/lib/python3.7/dist-packages (from requests->aicrowd-cli==0.1) (3.0.4)\n",
            "Requirement already satisfied: certifi>=2017.4.17 in /usr/local/lib/python3.7/dist-packages (from requests->aicrowd-cli==0.1) (2020.12.5)\n",
            "Requirement already satisfied: urllib3!=1.25.0,!=1.25.1,<1.26,>=1.21.1 in /usr/local/lib/python3.7/dist-packages (from requests->aicrowd-cli==0.1) (1.24.3)\n",
            "Requirement already satisfied: idna<3,>=2.5 in /usr/local/lib/python3.7/dist-packages (from requests->aicrowd-cli==0.1) (2.10)\n",
            "Requirement already satisfied: typing-extensions<4.0.0,>=3.7.4 in /usr/local/lib/python3.7/dist-packages (from rich->aicrowd-cli==0.1) (3.7.4.3)\n",
            "Requirement already satisfied: commonmark<0.10.0,>=0.9.0 in /usr/local/lib/python3.7/dist-packages (from rich->aicrowd-cli==0.1) (0.9.1)\n",
            "Requirement already satisfied: pygments<3.0.0,>=2.6.0 in /usr/local/lib/python3.7/dist-packages (from rich->aicrowd-cli==0.1) (2.6.1)\n",
            "Requirement already satisfied: colorama<0.5.0,>=0.4.0 in /usr/local/lib/python3.7/dist-packages (from rich->aicrowd-cli==0.1) (0.4.4)\n",
            "Requirement already satisfied: smmap<5,>=3.0.1 in /usr/local/lib/python3.7/dist-packages (from gitdb<5,>=4.0.1->gitpython->aicrowd-cli==0.1) (4.0.0)\n"
          ],
          "name": "stdout"
        }
      ]
    },
    {
      "cell_type": "code",
      "metadata": {
        "id": "gTH1WwDQNgQD"
      },
      "source": [
        "#RESTART RUNTIME TO USE NEW PACKAGES"
      ],
      "execution_count": 2,
      "outputs": []
    },
    {
      "cell_type": "code",
      "metadata": {
        "colab": {
          "base_uri": "https://localhost:8080/"
        },
        "id": "fU7_L2JhJEHa",
        "outputId": "6824244f-4be0-46e8-ea32-a74ceaf0660f"
      },
      "source": [
        "API_KEY = \"\"  # Please enter your API Key from [https://www.aicrowd.com/participants/me]\n",
        "!aicrowd login --api-key $API_KEY"
      ],
      "execution_count": 3,
      "outputs": [
        {
          "output_type": "stream",
          "text": [
            "\u001b[32mAPI Key valid\u001b[0m\n",
            "\u001b[32mSaved API Key successfully!\u001b[0m\n"
          ],
          "name": "stdout"
        }
      ]
    },
    {
      "cell_type": "code",
      "metadata": {
        "colab": {
          "base_uri": "https://localhost:8080/"
        },
        "id": "0tFvGMeqJfki",
        "outputId": "d7b62968-9e39-4b9b-9dda-0b49959245b3"
      },
      "source": [
        "!aicrowd dataset download --challenge f1-team-classification -j 3\n",
        "\n",
        "!rm -rf data\n",
        "!mkdir data\n",
        "\n",
        "!unzip -q train.zip  -d data/train\n",
        "!unzip -q val.zip -d data/val\n",
        "!unzip -q test.zip  -d data/test\n",
        "\n",
        "!mv train.csv data/train.csv\n",
        "!mv val.csv data/val.csv\n",
        "!mv sample_submission.csv data/sample_submission.csv"
      ],
      "execution_count": 4,
      "outputs": [
        {
          "output_type": "stream",
          "text": [
            "\rsample_submission.csv:   0% 0.00/134k [00:00<?, ?B/s]\n",
            "\rtrain.csv:   0% 0.00/569k [00:00<?, ?B/s]\u001b[A\n",
            "sample_submission.csv: 100% 134k/134k [00:00<00:00, 1.83MB/s]\n",
            "train.csv: 100% 569k/569k [00:00<00:00, 4.09MB/s]\n",
            "train.zip:   0% 0.00/391M [00:00<?, ?B/s]\n",
            "val.csv: 100% 52.9k/52.9k [00:00<00:00, 1.41MB/s]\n",
            "\n",
            "train.zip:   9% 33.6M/391M [00:00<00:05, 60.7MB/s]\n",
            "\n",
            "test.zip:   0% 0.00/97.7M [00:00<?, ?B/s]\u001b[A\u001b[A\n",
            "val.zip:  86% 33.6M/38.9M [00:00<00:00, 60.9MB/s]\u001b[A\n",
            "\n",
            "val.zip: 100% 38.9M/38.9M [00:00<00:00, 62.9MB/s]\n",
            "train.zip: 100% 391M/391M [00:05<00:00, 81.6MB/s]\n",
            "train.zip: 100% 391M/391M [00:05<00:00, 76.0MB/s]\n",
            "test.zip: 100% 97.7M/97.7M [00:11<00:00, 8.68MB/s]\n"
          ],
          "name": "stdout"
        }
      ]
    },
    {
      "cell_type": "code",
      "metadata": {
        "colab": {
          "base_uri": "https://localhost:8080/",
          "height": 36
        },
        "id": "1Z7z8CmlF2mf",
        "outputId": "ecb78043-f4eb-4927-a5d4-48e1e58d6901"
      },
      "source": [
        "import shutil\n",
        "\n",
        "shutil.copy('AIcrowd-AIBlitz7-Solution/challenge1/model.py','model.py')\n",
        "shutil.copy('AIcrowd-AIBlitz7-Solution/challenge1/dataset.py','dataset.py')"
      ],
      "execution_count": 5,
      "outputs": [
        {
          "output_type": "execute_result",
          "data": {
            "application/vnd.google.colaboratory.intrinsic+json": {
              "type": "string"
            },
            "text/plain": [
              "'dataset.py'"
            ]
          },
          "metadata": {
            "tags": []
          },
          "execution_count": 5
        }
      ]
    },
    {
      "cell_type": "code",
      "metadata": {
        "id": "AzOSRQp9AwgC"
      },
      "source": [
        " import model\n",
        "import dataset\n",
        "import pandas as pd\n",
        "\n",
        "import albumentations as A\n",
        "from albumentations.augmentations.transforms import Flip\n",
        "\n",
        "import torch\n",
        "import pytorch_lightning as pl\n",
        "from pytorch_lightning import Trainer"
      ],
      "execution_count": 6,
      "outputs": []
    },
    {
      "cell_type": "code",
      "metadata": {
        "colab": {
          "base_uri": "https://localhost:8080/",
          "height": 643,
          "referenced_widgets": [
            "72f4365b91354c48810a2ff0258a0cfa",
            "944ccfeb0a1f421b883385f16338d191",
            "9b4ce1c4e0904abf871ad463f92eb2fa",
            "e486e8cdeac145adbfafb972333a1cb7",
            "9c54d26294d64ddbbfe8115be607c838",
            "a34fdbbeb2764157aad3e71e7b57e955",
            "ee8f73a4607b4a91bea09e4664454c56",
            "e1493c78fcc44d19aba42c3c37b001c1",
            "a00b180747b945ba8984185adc36bd6c",
            "25b12a0f10b3406abded2e579d030936",
            "1010b17d96c847d5956e7eda47c925c2",
            "6ba1531472284dcca543c4d45a65fa8e",
            "c690dad7f42f4423927aacd99e82da49",
            "0751685a8b914b85a229b13c4d639532",
            "0bf54847a81b4c8388d0268af8d92187",
            "900caa81d30443db9b046e1456e2d769",
            "5f6fafba06eb46d988553e4010e9075d",
            "3d40afd401a649938d01a9b0e46ef376",
            "78a30a3bfb2a4aa39e445fa8325efffd",
            "1fe35e8b55c44a95a3e32e1baa4e239c",
            "c7b6d1a12dca475b86d508dcbf647485",
            "dee4f0dad8f943c1b2f08e0713d996a1",
            "523e48c26dc84db8a37dfad5aaf2e703",
            "134003a0fc184c48b84910b9c34ce90f",
            "7d781237e85447a8968528d2c35d3611",
            "6feeceb6ee26415c994ac65c3f45abc0",
            "71d346a5893c43fd8b21abc07ed46cc5",
            "352effadd5df4aaab931a4d984021925",
            "e9966863a8854327af9c1b6de1d23ec4",
            "b631f5c88c794ff5989ca1d8036825ad",
            "780e2939e0b54741a991f75949624cc8",
            "67a82f4b1eeb4062a9ca711afa7c4278",
            "3cb6d281fd434a8c94cb861b7d028757",
            "cebf1a9d0b5b4e638c908c1f03ebac56",
            "41ccfba0b1f047f48848c8970dd21f4f",
            "13a0de2a3bd7447cb1dbf277cd8daff4",
            "f0068b590b4b4819b6a1cc1ca2ab06d3",
            "8d20cede58794dacb02721d16a825362",
            "c7f0d4126b254f5f9350d9a352ff95b0",
            "0d689ff08b58458e94790239f7b45328"
          ]
        },
        "id": "HgKD5TpHAwgH",
        "outputId": "48eb75cc-9295-443c-cc60-199d75343bc5"
      },
      "source": [
        "if __name__ == '__main__':\n",
        "    trainer = Trainer(max_epochs = 1, gpus = 1, precision=16, amp_level='O1',deterministic=True)\n",
        "    \n",
        "    train_tr = A.Compose([\n",
        "        A.CenterCrop(256,256,always_apply=True),\n",
        "        Flip()\n",
        "    ])\n",
        "    \n",
        "    val_tr = A.Compose([\n",
        "        A.CenterCrop(256,256,always_apply=True)\n",
        "    ])\n",
        "    \n",
        "    model = model.Classifier({'lr':3e-4,'batch_size':64,'train_tr':train_tr,'val_tr':val_tr})\n",
        "    \n",
        "    trainer.fit(model)\n",
        "    trainer.test(model)\n",
        "    out = trainer.predict(model)"
      ],
      "execution_count": 7,
      "outputs": [
        {
          "output_type": "stream",
          "text": [
            "GPU available: True, used: True\n",
            "TPU available: None, using: 0 TPU cores\n",
            "Using native 16bit precision.\n"
          ],
          "name": "stderr"
        },
        {
          "output_type": "stream",
          "text": [
            "Loaded pretrained weights for efficientnet-b3\n"
          ],
          "name": "stdout"
        },
        {
          "output_type": "stream",
          "text": [
            "\n",
            "  | Name   | Type         | Params\n",
            "----------------------------------------\n",
            "0 | resnet | EfficientNet | 10.7 M\n",
            "----------------------------------------\n",
            "10.7 M    Trainable params\n",
            "0         Non-trainable params\n",
            "10.7 M    Total params\n",
            "42.797    Total estimated model params size (MB)\n",
            "/usr/local/lib/python3.7/dist-packages/torch/utils/data/dataloader.py:477: UserWarning: This DataLoader will create 6 worker processes in total. Our suggested max number of worker in current system is 2, which is smaller than what this DataLoader is going to create. Please be aware that excessive worker creation might get DataLoader running slow or even freeze, lower the worker number to avoid potential slowness/freeze if necessary.\n",
            "  cpuset_checked))\n"
          ],
          "name": "stderr"
        },
        {
          "output_type": "display_data",
          "data": {
            "application/vnd.jupyter.widget-view+json": {
              "model_id": "72f4365b91354c48810a2ff0258a0cfa",
              "version_minor": 0,
              "version_major": 2
            },
            "text/plain": [
              "HBox(children=(FloatProgress(value=1.0, bar_style='info', description='Validation sanity check', layout=Layout…"
            ]
          },
          "metadata": {
            "tags": []
          }
        },
        {
          "output_type": "stream",
          "text": [
            "/content/model.py:23: UserWarning: Implicit dimension choice for softmax has been deprecated. Change the call to include dim=X as an argument.\n",
            "  prob = F.softmax(x)\n"
          ],
          "name": "stderr"
        },
        {
          "output_type": "stream",
          "text": [
            "\r"
          ],
          "name": "stdout"
        },
        {
          "output_type": "display_data",
          "data": {
            "application/vnd.jupyter.widget-view+json": {
              "model_id": "a00b180747b945ba8984185adc36bd6c",
              "version_minor": 0,
              "version_major": 2
            },
            "text/plain": [
              "HBox(children=(FloatProgress(value=1.0, bar_style='info', description='Training', layout=Layout(flex='2'), max…"
            ]
          },
          "metadata": {
            "tags": []
          }
        },
        {
          "output_type": "display_data",
          "data": {
            "application/vnd.jupyter.widget-view+json": {
              "model_id": "5f6fafba06eb46d988553e4010e9075d",
              "version_minor": 0,
              "version_major": 2
            },
            "text/plain": [
              "HBox(children=(FloatProgress(value=1.0, bar_style='info', description='Validating', layout=Layout(flex='2'), m…"
            ]
          },
          "metadata": {
            "tags": []
          }
        },
        {
          "output_type": "stream",
          "text": [
            "/usr/local/lib/python3.7/dist-packages/pytorch_lightning/utilities/distributed.py:51: UserWarning: Detected KeyboardInterrupt, attempting graceful shutdown...\n",
            "  warnings.warn(*args, **kwargs)\n"
          ],
          "name": "stderr"
        },
        {
          "output_type": "stream",
          "text": [
            "\n"
          ],
          "name": "stdout"
        },
        {
          "output_type": "display_data",
          "data": {
            "application/vnd.jupyter.widget-view+json": {
              "model_id": "7d781237e85447a8968528d2c35d3611",
              "version_minor": 0,
              "version_major": 2
            },
            "text/plain": [
              "HBox(children=(FloatProgress(value=1.0, bar_style='info', description='Testing', layout=Layout(flex='2'), max=…"
            ]
          },
          "metadata": {
            "tags": []
          }
        },
        {
          "output_type": "stream",
          "text": [
            "\n",
            "--------------------------------------------------------------------------------\n",
            "DATALOADER:0 TEST RESULTS\n",
            "{'test_f1': 1.0, 'test_loss': 9.103668162424583e-06}\n",
            "--------------------------------------------------------------------------------\n"
          ],
          "name": "stdout"
        },
        {
          "output_type": "display_data",
          "data": {
            "application/vnd.jupyter.widget-view+json": {
              "model_id": "3cb6d281fd434a8c94cb861b7d028757",
              "version_minor": 0,
              "version_major": 2
            },
            "text/plain": [
              "HBox(children=(FloatProgress(value=1.0, bar_style='info', description='Predicting', layout=Layout(flex='2'), m…"
            ]
          },
          "metadata": {
            "tags": []
          }
        },
        {
          "output_type": "stream",
          "text": [
            "\n"
          ],
          "name": "stdout"
        }
      ]
    },
    {
      "cell_type": "code",
      "metadata": {
        "id": "jrziiDvLAwgI"
      },
      "source": [
        "import pandas as pd\n",
        "def writeSub(p):\n",
        "    labelmap = {0:'redbull',1:'mercedes'}\n",
        "    test_df = pd.read_csv('data/sample_submission.csv')\n",
        "    output_list = p.int().tolist()\n",
        "    output_list = [labelmap[i] for i in output_list]\n",
        "    test_df['label'] = output_list\n",
        "    test_df.to_csv(path_or_buf='data/submission.csv',index = False)"
      ],
      "execution_count": 12,
      "outputs": []
    },
    {
      "cell_type": "code",
      "metadata": {
        "id": "kjmxQMJLAwgJ"
      },
      "source": [
        "output = torch.tensor([])\n",
        "\n",
        "for i in range(len(out)):\n",
        "    output = torch.cat((output,torch.tensor(out[i][1]).argmax(1)))"
      ],
      "execution_count": 13,
      "outputs": []
    },
    {
      "cell_type": "code",
      "metadata": {
        "id": "RFbEO7bRAwgJ"
      },
      "source": [
        "writeSub(output)"
      ],
      "execution_count": 14,
      "outputs": []
    },
    {
      "cell_type": "code",
      "metadata": {
        "id": "Y3nuhLUrM-Dk",
        "outputId": "d36db988-391b-410a-c353-d301c001db79",
        "colab": {
          "base_uri": "https://localhost:8080/"
        }
      },
      "source": [
        "!aicrowd submission create -c f1-team-classification -f data/submission.csv"
      ],
      "execution_count": 15,
      "outputs": [
        {
          "output_type": "stream",
          "text": [
            "\u001b[2K\u001b[1;34msubmission.csv\u001b[0m \u001b[90m━━━━━━━━━━━━━━━━━━\u001b[0m \u001b[35m100.0%\u001b[0m • \u001b[32m135.4/133.8 KB\u001b[0m • \u001b[31m425.9 kB/s\u001b[0m • \u001b[36m0:00:00\u001b[0m\n",
            "\u001b[?25h\u001b[91m╭─\u001b[0m\u001b[91m──────────────────── \u001b[0m\u001b[1;31mTraceback \u001b[0m\u001b[1;2;31m(most recent call last)\u001b[0m\u001b[91m ─────────────────────\u001b[0m\u001b[91m─╮\u001b[0m\n",
            "\u001b[91m│\u001b[0m \u001b[2;33m/usr/local/bin/\u001b[0m\u001b[1;33maicrowd\u001b[0m:\u001b[94m8\u001b[0m in \u001b[92m<module>\u001b[0m                                         \u001b[91m│\u001b[0m\n",
            "\u001b[91m│\u001b[0m                                                                              \u001b[91m│\u001b[0m\n",
            "\u001b[91m│\u001b[0m   \u001b[2m5 \u001b[0m\u001b[94mfrom\u001b[0m \u001b[4;96maicrowd\u001b[0m\u001b[4;96m.\u001b[0m\u001b[4;96mcli\u001b[0m \u001b[94mimport\u001b[0m cli                                              \u001b[91m│\u001b[0m\n",
            "\u001b[91m│\u001b[0m   \u001b[2m6 \u001b[0m\u001b[94mif\u001b[0m \u001b[91m__name__\u001b[0m == \u001b[33m'\u001b[0m\u001b[33m__main__\u001b[0m\u001b[33m'\u001b[0m:                                               \u001b[91m│\u001b[0m\n",
            "\u001b[91m│\u001b[0m   \u001b[2m7 \u001b[0m\u001b[2m│   \u001b[0msys.argv[\u001b[94m0\u001b[0m] = re.sub(\u001b[33mr\u001b[0m\u001b[33m'\u001b[0m\u001b[33m(-script\u001b[0m\u001b[33m\\\u001b[0m\u001b[33m.pyw|\u001b[0m\u001b[33m\\\u001b[0m\u001b[33m.exe)?$\u001b[0m\u001b[33m'\u001b[0m, \u001b[33m'\u001b[0m\u001b[33m'\u001b[0m, sys.argv[\u001b[94m0\u001b[0m])     \u001b[91m│\u001b[0m\n",
            "\u001b[91m│\u001b[0m \u001b[31m❱ \u001b[0m8 \u001b[2m│   \u001b[0msys.exit(cli())                                                      \u001b[91m│\u001b[0m\n",
            "\u001b[91m│\u001b[0m                                                                              \u001b[91m│\u001b[0m\n",
            "\u001b[91m│\u001b[0m \u001b[2;33m/usr/local/lib/python3.7/dist-packages/click/\u001b[0m\u001b[1;33mcore.py\u001b[0m:\u001b[94m829\u001b[0m in \u001b[92m__call__\u001b[0m         \u001b[91m│\u001b[0m\n",
            "\u001b[91m│\u001b[0m                                                                              \u001b[91m│\u001b[0m\n",
            "\u001b[91m│\u001b[0m   \u001b[2m 826 \u001b[0m\u001b[2m│   \u001b[0m                                                                  \u001b[91m│\u001b[0m\n",
            "\u001b[91m│\u001b[0m   \u001b[2m 827 \u001b[0m\u001b[2m│   \u001b[0m\u001b[94mdef\u001b[0m \u001b[92m__call__\u001b[0m(\u001b[96mself\u001b[0m, *args, **kwargs):                              \u001b[91m│\u001b[0m\n",
            "\u001b[91m│\u001b[0m   \u001b[2m 828 \u001b[0m\u001b[2m│   │   \u001b[0m\u001b[33m\"\"\"Alias for :meth:`main`.\"\"\"\u001b[0m                                 \u001b[91m│\u001b[0m\n",
            "\u001b[91m│\u001b[0m \u001b[31m❱ \u001b[0m 829 \u001b[2m│   │   \u001b[0m\u001b[94mreturn\u001b[0m \u001b[96mself\u001b[0m.main(*args, **kwargs)                             \u001b[91m│\u001b[0m\n",
            "\u001b[91m│\u001b[0m   \u001b[2m 830 \u001b[0m                                                                      \u001b[91m│\u001b[0m\n",
            "\u001b[91m│\u001b[0m   \u001b[2m 831 \u001b[0m                                                                      \u001b[91m│\u001b[0m\n",
            "\u001b[91m│\u001b[0m   \u001b[2m 832 \u001b[0m\u001b[94mclass\u001b[0m \u001b[4;92mCommand\u001b[0m(BaseCommand):                                           \u001b[91m│\u001b[0m\n",
            "\u001b[91m│\u001b[0m                                                                              \u001b[91m│\u001b[0m\n",
            "\u001b[91m│\u001b[0m \u001b[2;33m/usr/local/lib/python3.7/dist-packages/click/\u001b[0m\u001b[1;33mcore.py\u001b[0m:\u001b[94m782\u001b[0m in \u001b[92mmain\u001b[0m             \u001b[91m│\u001b[0m\n",
            "\u001b[91m│\u001b[0m                                                                              \u001b[91m│\u001b[0m\n",
            "\u001b[91m│\u001b[0m   \u001b[2m 779 \u001b[0m\u001b[2m│   │   \u001b[0m\u001b[94mtry\u001b[0m:                                                          \u001b[91m│\u001b[0m\n",
            "\u001b[91m│\u001b[0m   \u001b[2m 780 \u001b[0m\u001b[2m│   │   │   \u001b[0m\u001b[94mtry\u001b[0m:                                                      \u001b[91m│\u001b[0m\n",
            "\u001b[91m│\u001b[0m   \u001b[2m 781 \u001b[0m\u001b[2m│   │   │   │   \u001b[0m\u001b[94mwith\u001b[0m \u001b[96mself\u001b[0m.make_context(prog_name, args, **extra) \u001b[94mas\u001b[0m c \u001b[91m│\u001b[0m\n",
            "\u001b[91m│\u001b[0m \u001b[31m❱ \u001b[0m 782 \u001b[2m│   │   │   │   │   \u001b[0mrv = \u001b[96mself\u001b[0m.invoke(ctx)                             \u001b[91m│\u001b[0m\n",
            "\u001b[91m│\u001b[0m   \u001b[2m 783 \u001b[0m\u001b[2m│   │   │   │   │   \u001b[0m\u001b[94mif\u001b[0m \u001b[95mnot\u001b[0m standalone_mode:                           \u001b[91m│\u001b[0m\n",
            "\u001b[91m│\u001b[0m   \u001b[2m 784 \u001b[0m\u001b[2m│   │   │   │   │   │   \u001b[0m\u001b[94mreturn\u001b[0m rv                                     \u001b[91m│\u001b[0m\n",
            "\u001b[91m│\u001b[0m   \u001b[2m 785 \u001b[0m\u001b[2m│   │   │   │   │   \u001b[0m\u001b[2m# it's not safe to `ctx.exit(rv)` here!\u001b[0m           \u001b[91m│\u001b[0m\n",
            "\u001b[91m│\u001b[0m                                                                              \u001b[91m│\u001b[0m\n",
            "\u001b[91m│\u001b[0m \u001b[2;33m/usr/local/lib/python3.7/dist-packages/click/\u001b[0m\u001b[1;33mcore.py\u001b[0m:\u001b[94m1259\u001b[0m in \u001b[92minvoke\u001b[0m          \u001b[91m│\u001b[0m\n",
            "\u001b[91m│\u001b[0m                                                                              \u001b[91m│\u001b[0m\n",
            "\u001b[91m│\u001b[0m   \u001b[2m1256 \u001b[0m\u001b[2m│   │   │   │   \u001b[0mCommand.invoke(\u001b[96mself\u001b[0m, ctx)                             \u001b[91m│\u001b[0m\n",
            "\u001b[91m│\u001b[0m   \u001b[2m1257 \u001b[0m\u001b[2m│   │   │   │   \u001b[0msub_ctx = cmd.make_context(cmd_name, args, parent=ctx \u001b[91m│\u001b[0m\n",
            "\u001b[91m│\u001b[0m   \u001b[2m1258 \u001b[0m\u001b[2m│   │   │   │   \u001b[0m\u001b[94mwith\u001b[0m sub_ctx:                                         \u001b[91m│\u001b[0m\n",
            "\u001b[91m│\u001b[0m \u001b[31m❱ \u001b[0m1259 \u001b[2m│   │   │   │   │   \u001b[0m\u001b[94mreturn\u001b[0m _process_result(sub_ctx.command.invoke(sub \u001b[91m│\u001b[0m\n",
            "\u001b[91m│\u001b[0m   \u001b[2m1260 \u001b[0m\u001b[2m│   │   \u001b[0m                                                              \u001b[91m│\u001b[0m\n",
            "\u001b[91m│\u001b[0m   \u001b[2m1261 \u001b[0m\u001b[2m│   │   \u001b[0m\u001b[2m# In chain mode we create the contexts step by step, but afte\u001b[0m \u001b[91m│\u001b[0m\n",
            "\u001b[91m│\u001b[0m   \u001b[2m1262 \u001b[0m\u001b[2m│   │   \u001b[0m\u001b[2m# base command has been invoked.  Because at that point we do\u001b[0m \u001b[91m│\u001b[0m\n",
            "\u001b[91m│\u001b[0m                                                                              \u001b[91m│\u001b[0m\n",
            "\u001b[91m│\u001b[0m \u001b[2;33m/usr/local/lib/python3.7/dist-packages/click/\u001b[0m\u001b[1;33mcore.py\u001b[0m:\u001b[94m1259\u001b[0m in \u001b[92minvoke\u001b[0m          \u001b[91m│\u001b[0m\n",
            "\u001b[91m│\u001b[0m                                                                              \u001b[91m│\u001b[0m\n",
            "\u001b[91m│\u001b[0m   \u001b[2m1256 \u001b[0m\u001b[2m│   │   │   │   \u001b[0mCommand.invoke(\u001b[96mself\u001b[0m, ctx)                             \u001b[91m│\u001b[0m\n",
            "\u001b[91m│\u001b[0m   \u001b[2m1257 \u001b[0m\u001b[2m│   │   │   │   \u001b[0msub_ctx = cmd.make_context(cmd_name, args, parent=ctx \u001b[91m│\u001b[0m\n",
            "\u001b[91m│\u001b[0m   \u001b[2m1258 \u001b[0m\u001b[2m│   │   │   │   \u001b[0m\u001b[94mwith\u001b[0m sub_ctx:                                         \u001b[91m│\u001b[0m\n",
            "\u001b[91m│\u001b[0m \u001b[31m❱ \u001b[0m1259 \u001b[2m│   │   │   │   │   \u001b[0m\u001b[94mreturn\u001b[0m _process_result(sub_ctx.command.invoke(sub \u001b[91m│\u001b[0m\n",
            "\u001b[91m│\u001b[0m   \u001b[2m1260 \u001b[0m\u001b[2m│   │   \u001b[0m                                                              \u001b[91m│\u001b[0m\n",
            "\u001b[91m│\u001b[0m   \u001b[2m1261 \u001b[0m\u001b[2m│   │   \u001b[0m\u001b[2m# In chain mode we create the contexts step by step, but afte\u001b[0m \u001b[91m│\u001b[0m\n",
            "\u001b[91m│\u001b[0m   \u001b[2m1262 \u001b[0m\u001b[2m│   │   \u001b[0m\u001b[2m# base command has been invoked.  Because at that point we do\u001b[0m \u001b[91m│\u001b[0m\n",
            "\u001b[91m│\u001b[0m                                                                              \u001b[91m│\u001b[0m\n",
            "\u001b[91m│\u001b[0m \u001b[2;33m/usr/local/lib/python3.7/dist-packages/click/\u001b[0m\u001b[1;33mcore.py\u001b[0m:\u001b[94m1066\u001b[0m in \u001b[92minvoke\u001b[0m          \u001b[91m│\u001b[0m\n",
            "\u001b[91m│\u001b[0m                                                                              \u001b[91m│\u001b[0m\n",
            "\u001b[91m│\u001b[0m   \u001b[2m1063 \u001b[0m\u001b[2;33m│   │   \u001b[0m\u001b[33m\"\"\"\u001b[0m                                                           \u001b[91m│\u001b[0m\n",
            "\u001b[91m│\u001b[0m   \u001b[2m1064 \u001b[0m\u001b[2m│   │   \u001b[0m_maybe_show_deprecated_notice(\u001b[96mself\u001b[0m)                           \u001b[91m│\u001b[0m\n",
            "\u001b[91m│\u001b[0m   \u001b[2m1065 \u001b[0m\u001b[2m│   │   \u001b[0m\u001b[94mif\u001b[0m \u001b[96mself\u001b[0m.callback \u001b[95mis\u001b[0m \u001b[95mnot\u001b[0m \u001b[94mNone\u001b[0m:                                 \u001b[91m│\u001b[0m\n",
            "\u001b[91m│\u001b[0m \u001b[31m❱ \u001b[0m1066 \u001b[2m│   │   │   \u001b[0m\u001b[94mreturn\u001b[0m ctx.invoke(\u001b[96mself\u001b[0m.callback, **ctx.params)            \u001b[91m│\u001b[0m\n",
            "\u001b[91m│\u001b[0m   \u001b[2m1067 \u001b[0m                                                                      \u001b[91m│\u001b[0m\n",
            "\u001b[91m│\u001b[0m   \u001b[2m1068 \u001b[0m                                                                      \u001b[91m│\u001b[0m\n",
            "\u001b[91m│\u001b[0m   \u001b[2m1069 \u001b[0m\u001b[94mclass\u001b[0m \u001b[4;92mMultiCommand\u001b[0m(Command):                                          \u001b[91m│\u001b[0m\n",
            "\u001b[91m│\u001b[0m                                                                              \u001b[91m│\u001b[0m\n",
            "\u001b[91m│\u001b[0m \u001b[2;33m/usr/local/lib/python3.7/dist-packages/click/\u001b[0m\u001b[1;33mcore.py\u001b[0m:\u001b[94m610\u001b[0m in \u001b[92minvoke\u001b[0m           \u001b[91m│\u001b[0m\n",
            "\u001b[91m│\u001b[0m                                                                              \u001b[91m│\u001b[0m\n",
            "\u001b[91m│\u001b[0m   \u001b[2m 607 \u001b[0m\u001b[2m│   │   \u001b[0margs = args[\u001b[94m2\u001b[0m:]                                               \u001b[91m│\u001b[0m\n",
            "\u001b[91m│\u001b[0m   \u001b[2m 608 \u001b[0m\u001b[2m│   │   \u001b[0m\u001b[94mwith\u001b[0m augment_usage_errors(\u001b[96mself\u001b[0m):                              \u001b[91m│\u001b[0m\n",
            "\u001b[91m│\u001b[0m   \u001b[2m 609 \u001b[0m\u001b[2m│   │   │   \u001b[0m\u001b[94mwith\u001b[0m ctx:                                                 \u001b[91m│\u001b[0m\n",
            "\u001b[91m│\u001b[0m \u001b[31m❱ \u001b[0m 610 \u001b[2m│   │   │   │   \u001b[0m\u001b[94mreturn\u001b[0m callback(*args, **kwargs)                      \u001b[91m│\u001b[0m\n",
            "\u001b[91m│\u001b[0m   \u001b[2m 611 \u001b[0m\u001b[2m│   \u001b[0m                                                                  \u001b[91m│\u001b[0m\n",
            "\u001b[91m│\u001b[0m   \u001b[2m 612 \u001b[0m\u001b[2m│   \u001b[0m\u001b[94mdef\u001b[0m \u001b[92mforward\u001b[0m(*args, **kwargs):  \u001b[2m# noqa: B902\u001b[0m                       \u001b[91m│\u001b[0m\n",
            "\u001b[91m│\u001b[0m   \u001b[2m 613 \u001b[0m\u001b[2m│   │   \u001b[0m\u001b[33m\"\"\"Similar to :meth:`invoke` but fills in default keyword\u001b[0m     \u001b[91m│\u001b[0m\n",
            "\u001b[91m│\u001b[0m                                                                              \u001b[91m│\u001b[0m\n",
            "\u001b[91m│\u001b[0m \u001b[2;33m/usr/local/lib/python3.7/dist-packages/click/\u001b[0m\u001b[1;33mdecorators.py\u001b[0m:\u001b[94m73\u001b[0m in \u001b[92mnew_func\u001b[0m    \u001b[91m│\u001b[0m\n",
            "\u001b[91m│\u001b[0m                                                                              \u001b[91m│\u001b[0m\n",
            "\u001b[91m│\u001b[0m   \u001b[2m 70 \u001b[0m\u001b[2m│   │   │   │   │   \u001b[0m\u001b[33m\"\u001b[0m\u001b[33mManaged to invoke callback without a context\u001b[0m\u001b[33m\"\u001b[0m     \u001b[91m│\u001b[0m\n",
            "\u001b[91m│\u001b[0m   \u001b[2m 71 \u001b[0m\u001b[2m│   │   │   │   │   \u001b[0m\u001b[33m\"\u001b[0m\u001b[33m object of type \u001b[0m\u001b[33m'\u001b[0m\u001b[33m{}\u001b[0m\u001b[33m'\u001b[0m\u001b[33m existing\u001b[0m\u001b[33m\"\u001b[0m.format(object_type \u001b[91m│\u001b[0m\n",
            "\u001b[91m│\u001b[0m   \u001b[2m 72 \u001b[0m\u001b[2m│   │   │   │   \u001b[0m)                                                      \u001b[91m│\u001b[0m\n",
            "\u001b[91m│\u001b[0m \u001b[31m❱ \u001b[0m 73 \u001b[2m│   │   │   \u001b[0m\u001b[94mreturn\u001b[0m ctx.invoke(f, obj, *args, **kwargs)                 \u001b[91m│\u001b[0m\n",
            "\u001b[91m│\u001b[0m   \u001b[2m 74 \u001b[0m\u001b[2m│   │   \u001b[0m                                                               \u001b[91m│\u001b[0m\n",
            "\u001b[91m│\u001b[0m   \u001b[2m 75 \u001b[0m\u001b[2m│   │   \u001b[0m\u001b[94mreturn\u001b[0m update_wrapper(new_func, f)                             \u001b[91m│\u001b[0m\n",
            "\u001b[91m│\u001b[0m                                                                              \u001b[91m│\u001b[0m\n",
            "\u001b[91m│\u001b[0m \u001b[2;33m/usr/local/lib/python3.7/dist-packages/click/\u001b[0m\u001b[1;33mcore.py\u001b[0m:\u001b[94m610\u001b[0m in \u001b[92minvoke\u001b[0m           \u001b[91m│\u001b[0m\n",
            "\u001b[91m│\u001b[0m                                                                              \u001b[91m│\u001b[0m\n",
            "\u001b[91m│\u001b[0m   \u001b[2m 607 \u001b[0m\u001b[2m│   │   \u001b[0margs = args[\u001b[94m2\u001b[0m:]                                               \u001b[91m│\u001b[0m\n",
            "\u001b[91m│\u001b[0m   \u001b[2m 608 \u001b[0m\u001b[2m│   │   \u001b[0m\u001b[94mwith\u001b[0m augment_usage_errors(\u001b[96mself\u001b[0m):                              \u001b[91m│\u001b[0m\n",
            "\u001b[91m│\u001b[0m   \u001b[2m 609 \u001b[0m\u001b[2m│   │   │   \u001b[0m\u001b[94mwith\u001b[0m ctx:                                                 \u001b[91m│\u001b[0m\n",
            "\u001b[91m│\u001b[0m \u001b[31m❱ \u001b[0m 610 \u001b[2m│   │   │   │   \u001b[0m\u001b[94mreturn\u001b[0m callback(*args, **kwargs)                      \u001b[91m│\u001b[0m\n",
            "\u001b[91m│\u001b[0m   \u001b[2m 611 \u001b[0m\u001b[2m│   \u001b[0m                                                                  \u001b[91m│\u001b[0m\n",
            "\u001b[91m│\u001b[0m   \u001b[2m 612 \u001b[0m\u001b[2m│   \u001b[0m\u001b[94mdef\u001b[0m \u001b[92mforward\u001b[0m(*args, **kwargs):  \u001b[2m# noqa: B902\u001b[0m                       \u001b[91m│\u001b[0m\n",
            "\u001b[91m│\u001b[0m   \u001b[2m 613 \u001b[0m\u001b[2m│   │   \u001b[0m\u001b[33m\"\"\"Similar to :meth:`invoke` but fills in default keyword\u001b[0m     \u001b[91m│\u001b[0m\n",
            "\u001b[91m│\u001b[0m                                                                              \u001b[91m│\u001b[0m\n",
            "\u001b[91m│\u001b[0m \u001b[2;33m/usr/local/lib/python3.7/dist-packages/click/\u001b[0m\u001b[1;33mdecorators.py\u001b[0m:\u001b[94m73\u001b[0m in \u001b[92mnew_func\u001b[0m    \u001b[91m│\u001b[0m\n",
            "\u001b[91m│\u001b[0m                                                                              \u001b[91m│\u001b[0m\n",
            "\u001b[91m│\u001b[0m   \u001b[2m 70 \u001b[0m\u001b[2m│   │   │   │   │   \u001b[0m\u001b[33m\"\u001b[0m\u001b[33mManaged to invoke callback without a context\u001b[0m\u001b[33m\"\u001b[0m     \u001b[91m│\u001b[0m\n",
            "\u001b[91m│\u001b[0m   \u001b[2m 71 \u001b[0m\u001b[2m│   │   │   │   │   \u001b[0m\u001b[33m\"\u001b[0m\u001b[33m object of type \u001b[0m\u001b[33m'\u001b[0m\u001b[33m{}\u001b[0m\u001b[33m'\u001b[0m\u001b[33m existing\u001b[0m\u001b[33m\"\u001b[0m.format(object_type \u001b[91m│\u001b[0m\n",
            "\u001b[91m│\u001b[0m   \u001b[2m 72 \u001b[0m\u001b[2m│   │   │   │   \u001b[0m)                                                      \u001b[91m│\u001b[0m\n",
            "\u001b[91m│\u001b[0m \u001b[31m❱ \u001b[0m 73 \u001b[2m│   │   │   \u001b[0m\u001b[94mreturn\u001b[0m ctx.invoke(f, obj, *args, **kwargs)                 \u001b[91m│\u001b[0m\n",
            "\u001b[91m│\u001b[0m   \u001b[2m 74 \u001b[0m\u001b[2m│   │   \u001b[0m                                                               \u001b[91m│\u001b[0m\n",
            "\u001b[91m│\u001b[0m   \u001b[2m 75 \u001b[0m\u001b[2m│   │   \u001b[0m\u001b[94mreturn\u001b[0m update_wrapper(new_func, f)                             \u001b[91m│\u001b[0m\n",
            "\u001b[91m│\u001b[0m                                                                              \u001b[91m│\u001b[0m\n",
            "\u001b[91m│\u001b[0m \u001b[2;33m/usr/local/lib/python3.7/dist-packages/click/\u001b[0m\u001b[1;33mcore.py\u001b[0m:\u001b[94m610\u001b[0m in \u001b[92minvoke\u001b[0m           \u001b[91m│\u001b[0m\n",
            "\u001b[91m│\u001b[0m                                                                              \u001b[91m│\u001b[0m\n",
            "\u001b[91m│\u001b[0m   \u001b[2m 607 \u001b[0m\u001b[2m│   │   \u001b[0margs = args[\u001b[94m2\u001b[0m:]                                               \u001b[91m│\u001b[0m\n",
            "\u001b[91m│\u001b[0m   \u001b[2m 608 \u001b[0m\u001b[2m│   │   \u001b[0m\u001b[94mwith\u001b[0m augment_usage_errors(\u001b[96mself\u001b[0m):                              \u001b[91m│\u001b[0m\n",
            "\u001b[91m│\u001b[0m   \u001b[2m 609 \u001b[0m\u001b[2m│   │   │   \u001b[0m\u001b[94mwith\u001b[0m ctx:                                                 \u001b[91m│\u001b[0m\n",
            "\u001b[91m│\u001b[0m \u001b[31m❱ \u001b[0m 610 \u001b[2m│   │   │   │   \u001b[0m\u001b[94mreturn\u001b[0m callback(*args, **kwargs)                      \u001b[91m│\u001b[0m\n",
            "\u001b[91m│\u001b[0m   \u001b[2m 611 \u001b[0m\u001b[2m│   \u001b[0m                                                                  \u001b[91m│\u001b[0m\n",
            "\u001b[91m│\u001b[0m   \u001b[2m 612 \u001b[0m\u001b[2m│   \u001b[0m\u001b[94mdef\u001b[0m \u001b[92mforward\u001b[0m(*args, **kwargs):  \u001b[2m# noqa: B902\u001b[0m                       \u001b[91m│\u001b[0m\n",
            "\u001b[91m│\u001b[0m   \u001b[2m 613 \u001b[0m\u001b[2m│   │   \u001b[0m\u001b[33m\"\"\"Similar to :meth:`invoke` but fills in default keyword\u001b[0m     \u001b[91m│\u001b[0m\n",
            "\u001b[91m│\u001b[0m                                                                              \u001b[91m│\u001b[0m\n",
            "\u001b[91m│\u001b[0m \u001b[2;33m/usr/local/lib/python3.7/dist-packages/aicrowd/cmd/\u001b[0m\u001b[1;33msubmission.py\u001b[0m:\u001b[94m81\u001b[0m in       \u001b[91m│\u001b[0m\n",
            "\u001b[91m│\u001b[0m \u001b[92mcreate_subcommand\u001b[0m                                                            \u001b[91m│\u001b[0m\n",
            "\u001b[91m│\u001b[0m                                                                              \u001b[91m│\u001b[0m\n",
            "\u001b[91m│\u001b[0m   \u001b[2m 78 \u001b[0m\u001b[2m│   │   │   │   \u001b[0m\u001b[94mTrue\u001b[0m,                                                  \u001b[91m│\u001b[0m\n",
            "\u001b[91m│\u001b[0m   \u001b[2m 79 \u001b[0m\u001b[2m│   │   │   │   \u001b[0mconfig_ctx,                                            \u001b[91m│\u001b[0m\n",
            "\u001b[91m│\u001b[0m   \u001b[2m 80 \u001b[0m\u001b[2m│   │   │   │   \u001b[0mchallenge_ctx,                                         \u001b[91m│\u001b[0m\n",
            "\u001b[91m│\u001b[0m \u001b[31m❱ \u001b[0m 81 \u001b[2m│   │   │   │   \u001b[0mjupyter=jupyter,                                       \u001b[91m│\u001b[0m\n",
            "\u001b[91m│\u001b[0m   \u001b[2m 82 \u001b[0m\u001b[2m│   │   │   \u001b[0m)                                                          \u001b[91m│\u001b[0m\n",
            "\u001b[91m│\u001b[0m   \u001b[2m 83 \u001b[0m\u001b[2m│   │   \u001b[0m)                                                              \u001b[91m│\u001b[0m\n",
            "\u001b[91m│\u001b[0m   \u001b[2m 84 \u001b[0m\u001b[2m│   \u001b[0m\u001b[94mexcept\u001b[0m SubmissionException \u001b[94mas\u001b[0m e:                                   \u001b[91m│\u001b[0m\n",
            "\u001b[91m│\u001b[0m                                                                              \u001b[91m│\u001b[0m\n",
            "\u001b[91m│\u001b[0m \u001b[2;33m/usr/local/lib/python3.7/dist-packages/aicrowd/submission/\u001b[0m\u001b[1;33mcreate_cmd.py\u001b[0m:\u001b[94m90\u001b[0m   \u001b[91m│\u001b[0m\n",
            "\u001b[91m│\u001b[0m in \u001b[92mcreate\u001b[0m                                                                    \u001b[91m│\u001b[0m\n",
            "\u001b[91m│\u001b[0m                                                                              \u001b[91m│\u001b[0m\n",
            "\u001b[91m│\u001b[0m   \u001b[2m87 \u001b[0m\u001b[2m│   \u001b[0m\u001b[94mif\u001b[0m file_path \u001b[95mis\u001b[0m \u001b[94mNone\u001b[0m:                                               \u001b[91m│\u001b[0m\n",
            "\u001b[91m│\u001b[0m   \u001b[2m88 \u001b[0m\u001b[2m│   │   \u001b[0m\u001b[94mraise\u001b[0m \u001b[96mNotImplementedError\u001b[0m(\u001b[33m\"\u001b[0m\u001b[33mGit based submissions are not ready \u001b[0m \u001b[91m│\u001b[0m\n",
            "\u001b[91m│\u001b[0m   \u001b[2m89 \u001b[0m\u001b[2m│   \u001b[0m                                                                    \u001b[91m│\u001b[0m\n",
            "\u001b[91m│\u001b[0m \u001b[31m❱ \u001b[0m90 \u001b[2m│   \u001b[0m\u001b[94mreturn\u001b[0m submit_file(challenge_slug, file_path, description, api_key, \u001b[91m│\u001b[0m\n",
            "\u001b[91m│\u001b[0m                                                                              \u001b[91m│\u001b[0m\n",
            "\u001b[91m│\u001b[0m \u001b[2;33m/usr/local/lib/python3.7/dist-packages/aicrowd/submission/\u001b[0m\u001b[1;33mhelpers.py\u001b[0m:\u001b[94m356\u001b[0m in  \u001b[91m│\u001b[0m\n",
            "\u001b[91m│\u001b[0m \u001b[92msubmit_file\u001b[0m                                                                  \u001b[91m│\u001b[0m\n",
            "\u001b[91m│\u001b[0m                                                                              \u001b[91m│\u001b[0m\n",
            "\u001b[91m│\u001b[0m   \u001b[2m353 \u001b[0m\u001b[2m│   \u001b[0m                                                                   \u001b[91m│\u001b[0m\n",
            "\u001b[91m│\u001b[0m   \u001b[2m354 \u001b[0m\u001b[2m│   \u001b[0m\u001b[94mif\u001b[0m print_links:                                                    \u001b[91m│\u001b[0m\n",
            "\u001b[91m│\u001b[0m   \u001b[2m355 \u001b[0m\u001b[2m│   │   \u001b[0mprint_submission_links(                                        \u001b[91m│\u001b[0m\n",
            "\u001b[91m│\u001b[0m \u001b[31m❱ \u001b[0m356 \u001b[2m│   │   │   \u001b[0mchallenge_slug, response.get(\u001b[33m\"\u001b[0m\u001b[33mdata\u001b[0m\u001b[33m\"\u001b[0m, {}).get(\u001b[33m\"\u001b[0m\u001b[33msubmission_i\u001b[0m \u001b[91m│\u001b[0m\n",
            "\u001b[91m│\u001b[0m   \u001b[2m357 \u001b[0m\u001b[2m│   │   \u001b[0m)                                                              \u001b[91m│\u001b[0m\n",
            "\u001b[91m│\u001b[0m   \u001b[2m358 \u001b[0m\u001b[2m│   \u001b[0m                                                                   \u001b[91m│\u001b[0m\n",
            "\u001b[91m│\u001b[0m   \u001b[2m359 \u001b[0m\u001b[2m│   \u001b[0m\u001b[94mreturn\u001b[0m response.get(\u001b[33m\"\u001b[0m\u001b[33mdata\u001b[0m\u001b[33m\"\u001b[0m)                                        \u001b[91m│\u001b[0m\n",
            "\u001b[91m│\u001b[0m                                                                              \u001b[91m│\u001b[0m\n",
            "\u001b[91m│\u001b[0m \u001b[2;33m/usr/local/lib/python3.7/dist-packages/aicrowd/submission/\u001b[0m\u001b[1;33mhelpers.py\u001b[0m:\u001b[94m289\u001b[0m in  \u001b[91m│\u001b[0m\n",
            "\u001b[91m│\u001b[0m \u001b[92mprint_submission_links\u001b[0m                                                       \u001b[91m│\u001b[0m\n",
            "\u001b[91m│\u001b[0m                                                                              \u001b[91m│\u001b[0m\n",
            "\u001b[91m│\u001b[0m   \u001b[2m286 \u001b[0m\u001b[2m│   \u001b[0m)                                                                  \u001b[91m│\u001b[0m\n",
            "\u001b[91m│\u001b[0m   \u001b[2m287 \u001b[0m\u001b[2m│   \u001b[0mtable.add_row(\u001b[33m\"\u001b[0m\u001b[33mChallenge page\u001b[0m\u001b[33m\"\u001b[0m, \u001b[33mf\u001b[0m\u001b[33m\"\u001b[0m\u001b[33m{\u001b[0mchallenge_url\u001b[33m}\u001b[0m\u001b[33m\"\u001b[0m)                \u001b[91m│\u001b[0m\n",
            "\u001b[91m│\u001b[0m   \u001b[2m288 \u001b[0m\u001b[2m│   \u001b[0m                                                                   \u001b[91m│\u001b[0m\n",
            "\u001b[91m│\u001b[0m \u001b[31m❱ \u001b[0m289 \u001b[2m│   \u001b[0mwidth = calculate_min_table_width(table)                           \u001b[91m│\u001b[0m\n",
            "\u001b[91m│\u001b[0m   \u001b[2m290 \u001b[0m\u001b[2m│   \u001b[0m                                                                   \u001b[91m│\u001b[0m\n",
            "\u001b[91m│\u001b[0m   \u001b[2m291 \u001b[0m\u001b[2m│   \u001b[0mconsole = Console(width=width)                                     \u001b[91m│\u001b[0m\n",
            "\u001b[91m│\u001b[0m   \u001b[2m292 \u001b[0m\u001b[2m│   \u001b[0mtable.min_width = width                                            \u001b[91m│\u001b[0m\n",
            "\u001b[91m│\u001b[0m                                                                              \u001b[91m│\u001b[0m\n",
            "\u001b[91m│\u001b[0m \u001b[2;33m/usr/local/lib/python3.7/dist-packages/aicrowd/submission/\u001b[0m\u001b[1;33mhelpers.py\u001b[0m:\u001b[94m53\u001b[0m in   \u001b[91m│\u001b[0m\n",
            "\u001b[91m│\u001b[0m \u001b[92mcalculate_min_table_width\u001b[0m                                                    \u001b[91m│\u001b[0m\n",
            "\u001b[91m│\u001b[0m                                                                              \u001b[91m│\u001b[0m\n",
            "\u001b[91m│\u001b[0m   \u001b[2m 50 \u001b[0m\u001b[2;33m│   \u001b[0m\u001b[33mArgs:\u001b[0m                                                              \u001b[91m│\u001b[0m\n",
            "\u001b[91m│\u001b[0m   \u001b[2m 51 \u001b[0m\u001b[2;33m│   │   \u001b[0m\u001b[33mtable: rich table\u001b[0m                                              \u001b[91m│\u001b[0m\n",
            "\u001b[91m│\u001b[0m   \u001b[2m 52 \u001b[0m\u001b[2;33m│   \u001b[0m\u001b[33m\"\"\"\u001b[0m                                                                \u001b[91m│\u001b[0m\n",
            "\u001b[91m│\u001b[0m \u001b[31m❱ \u001b[0m 53 \u001b[2m│   \u001b[0mwidth = \u001b[96msum\u001b[0m(table._calculate_column_widths(Console(), \u001b[94m200\u001b[0m)) + tabl \u001b[91m│\u001b[0m\n",
            "\u001b[91m│\u001b[0m   \u001b[2m 54 \u001b[0m\u001b[2m│   \u001b[0mterm_width = shutil.get_terminal_size().columns                    \u001b[91m│\u001b[0m\n",
            "\u001b[91m│\u001b[0m   \u001b[2m 55 \u001b[0m\u001b[2m│   \u001b[0m\u001b[94mreturn\u001b[0m \u001b[96mmax\u001b[0m(width, term_width)                                      \u001b[91m│\u001b[0m\n",
            "\u001b[91m│\u001b[0m                                                                              \u001b[91m│\u001b[0m\n",
            "\u001b[91m│\u001b[0m \u001b[2;33m/usr/local/lib/python3.7/dist-packages/rich/\u001b[0m\u001b[1;33mtable.py\u001b[0m:\u001b[94m478\u001b[0m in                  \u001b[91m│\u001b[0m\n",
            "\u001b[91m│\u001b[0m \u001b[92m_calculate_column_widths\u001b[0m                                                     \u001b[91m│\u001b[0m\n",
            "\u001b[91m│\u001b[0m                                                                              \u001b[91m│\u001b[0m\n",
            "\u001b[91m│\u001b[0m   \u001b[2m475 \u001b[0m\u001b[2m│   │   \u001b[0m\u001b[96mself\u001b[0m, console: \u001b[33m\"\u001b[0m\u001b[33mConsole\u001b[0m\u001b[33m\"\u001b[0m, options: \u001b[33m\"\u001b[0m\u001b[33mConsoleOptions\u001b[0m\u001b[33m\"\u001b[0m            \u001b[91m│\u001b[0m\n",
            "\u001b[91m│\u001b[0m   \u001b[2m476 \u001b[0m\u001b[2m│   \u001b[0m) -> List[\u001b[96mint\u001b[0m]:                                                    \u001b[91m│\u001b[0m\n",
            "\u001b[91m│\u001b[0m   \u001b[2m477 \u001b[0m\u001b[2m│   │   \u001b[0m\u001b[33m\"\"\"Calculate the widths of each column, including padding, not\u001b[0m \u001b[91m│\u001b[0m\n",
            "\u001b[91m│\u001b[0m \u001b[31m❱ \u001b[0m478 \u001b[2m│   │   \u001b[0mmax_width = options.max_width                                  \u001b[91m│\u001b[0m\n",
            "\u001b[91m│\u001b[0m   \u001b[2m479 \u001b[0m\u001b[2m│   │   \u001b[0mcolumns = \u001b[96mself\u001b[0m.columns                                         \u001b[91m│\u001b[0m\n",
            "\u001b[91m│\u001b[0m   \u001b[2m480 \u001b[0m\u001b[2m│   │   \u001b[0mwidth_ranges = [                                               \u001b[91m│\u001b[0m\n",
            "\u001b[91m│\u001b[0m   \u001b[2m481 \u001b[0m\u001b[2m│   │   │   \u001b[0m\u001b[96mself\u001b[0m._measure_column(console, options, column) \u001b[94mfor\u001b[0m column  \u001b[91m│\u001b[0m\n",
            "\u001b[91m╰──────────────────────────────────────────────────────────────────────────────╯\u001b[0m\n",
            "\u001b[1;91mAttributeError: \u001b[0m\u001b[32m'int'\u001b[0m object has no attribute \u001b[32m'max_width'\u001b[0m\n"
          ],
          "name": "stdout"
        }
      ]
    },
    {
      "cell_type": "code",
      "metadata": {
        "id": "yt9mfbpx2atb"
      },
      "source": [
        ""
      ],
      "execution_count": null,
      "outputs": []
    }
  ]
}