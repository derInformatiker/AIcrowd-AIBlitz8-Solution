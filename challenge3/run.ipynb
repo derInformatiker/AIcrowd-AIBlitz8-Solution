{
 "cells": [
  {
   "cell_type": "code",
   "execution_count": 22,
   "metadata": {},
   "outputs": [],
   "source": [
    "import dataset, model\n",
    "import albumentations as A\n",
    "import matplotlib.pyplot as plt\n",
    "import pandas as pd\n",
    "import torch\n",
    "from torch import nn\n",
    "from torch.nn import functional as F\n",
    "import numpy as np\n",
    "import random, os"
   ]
  },
  {
   "cell_type": "code",
   "execution_count": 23,
   "metadata": {},
   "outputs": [],
   "source": [
    "def set_seed(seed: int = 42):\n",
    "    random.seed(seed)\n",
    "    np.random.seed(seed)\n",
    "    os.environ[\"PYTHONHASHSEED\"] = str(seed)\n",
    "    torch.manual_seed(seed)\n",
    "    torch.cuda.manual_seed(seed)  # type: ignore\n",
    "    torch.backends.cudnn.deterministic = True  # type: ignore\n",
    "    torch.backends.cudnn.benchmark = True  # type: ignore\n",
    "    \n",
    "set_seed(0)"
   ]
  },
  {
   "cell_type": "code",
   "execution_count": 24,
   "metadata": {},
   "outputs": [
    {
     "data": {
      "text/plain": [
       "<module 'dataset' from 'D:\\\\f1\\\\ch3\\\\dataset.py'>"
      ]
     },
     "execution_count": 24,
     "metadata": {},
     "output_type": "execute_result"
    }
   ],
   "source": [
    "import importlib\n",
    "importlib.reload(model)\n",
    "importlib.reload(dataset)"
   ]
  },
  {
   "cell_type": "code",
   "execution_count": 4,
   "metadata": {},
   "outputs": [
    {
     "name": "stderr",
     "output_type": "stream",
     "text": [
      "GPU available: True, used: True\n",
      "TPU available: None, using: 0 TPU cores\n"
     ]
    }
   ],
   "source": [
    "import model\n",
    "import albumentations as A\n",
    "from albumentations.augmentations.transforms import Flip\n",
    "import pytorch_lightning as pl\n",
    "from pytorch_lightning import Trainer\n",
    "from pytorch_lightning.callbacks.model_checkpoint import ModelCheckpoint\n",
    "from pytorch_lightning.callbacks.early_stopping import EarlyStopping\n",
    "\n",
    "if __name__ == '__main__':\n",
    "    ckpt = [ModelCheckpoint(monitor = 'val_mse',save_top_k = 1,mode = 'min')\n",
    "           ]\n",
    "    trainer = Trainer(max_epochs = 70,gpus = 1, callbacks = ckpt, precision=32,deterministic=True,fast_dev_run = False)\n",
    "    \n",
    "    train_tr = A.Compose([\n",
    "        #A.augmentations.transforms.ColorJitter(),\n",
    "        #A.augmentations.transforms.GaussNoise()\n",
    "        #A.Resize(32,100)\n",
    "    ])\n",
    "    \n",
    "    val_tr = A.Compose([\n",
    "        #A.CenterCrop(128,128),\n",
    "        #A.Resize(32,100)\n",
    "    ])\n",
    "    \n",
    "    model = model.Classifier({'lr':1e-3,'batch_size':32,'train_tr':train_tr,'val_tr':val_tr})\n",
    "    \n",
    "    trainer.fit(model)\n",
    "    rainer.test(model)"
   ]
  },
  {
   "cell_type": "code",
   "execution_count": 46,
   "metadata": {},
   "outputs": [
    {
     "data": {
      "application/vnd.jupyter.widget-view+json": {
       "model_id": "122cdab5a96e4902ad055e3d7ff28a59",
       "version_major": 2,
       "version_minor": 0
      },
      "text/plain": [
       "Testing: 0it [00:00, ?it/s]"
      ]
     },
     "metadata": {},
     "output_type": "display_data"
    },
    {
     "name": "stdout",
     "output_type": "stream",
     "text": [
      "--------------------------------------------------------------------------------\n",
      "DATALOADER:0 TEST RESULTS\n",
      "{'test_loss': 0.0025073920842260122, 'test_mse': 2513.011474609375}\n",
      "--------------------------------------------------------------------------------\n"
     ]
    },
    {
     "data": {
      "application/vnd.jupyter.widget-view+json": {
       "model_id": "a5a296d2abdc4426b92956fd9a83f5fe",
       "version_major": 2,
       "version_minor": 0
      },
      "text/plain": [
       "Predicting: 0it [00:00, ?it/s]"
      ]
     },
     "metadata": {},
     "output_type": "display_data"
    }
   ],
   "source": [
    "import model\n",
    "model = model.Classifier({'lr':3e-4,'batch_size':32,'train_tr':train_tr,'val_tr':val_tr})\n",
    "\n",
    "ckpt = torch.load('lightning_logs/version_52/checkpoints/epoch=43-step=54999.ckpt') # PATH OF CHECKPOINT\n",
    "model.load_state_dict(ckpt['state_dict'])\n",
    "trainer.test(model)\n",
    "out = trainer.predict(model)\n",
    "# SHOULD SHOW A LOSS NEAR 0.002 IF NOT SOMETHING WASN'T DONE CORRECTLY"
   ]
  },
  {
   "cell_type": "code",
   "execution_count": 47,
   "metadata": {},
   "outputs": [],
   "source": [
    "def removeBatches(t):\n",
    "    concat = torch.tensor([])\n",
    "    for i in range(len(t)):\n",
    "        concat = torch.cat((concat,torch.tensor(t[i])))\n",
    "    return concat"
   ]
  },
  {
   "cell_type": "code",
   "execution_count": 48,
   "metadata": {},
   "outputs": [],
   "source": [
    "import model\n",
    "out = removeBatches(out)\n",
    "concat = torch.mean(torch.cat([out.unsqueeze(0),out2.unsqueeze(0)],axis = 0),axis = 0)\n",
    "concat = model.toNum(concat).squeeze()"
   ]
  },
  {
   "cell_type": "code",
   "execution_count": 49,
   "metadata": {},
   "outputs": [],
   "source": [
    "import model\n",
    "model.writeSub(concat) "
   ]
  },
  {
   "cell_type": "code",
   "execution_count": 50,
   "metadata": {},
   "outputs": [
    {
     "name": "stdout",
     "output_type": "stream",
     "text": [
      "submission.csv ------------------- 100.0% • 105.1/103.5 KB • 1.6 MB/s • 0:00:00                                                   +-------------------------+                                                    \n",
      "                                                   | Successfully submitted! |                                                    \n",
      "                                                   +-------------------------+                                                    \n",
      "                                                         Important links                                                          \n",
      "+--------------------------------------------------------------------------------------------------------------------------------+\n",
      "|  This submission | https://www.aicrowd.com/challenges/ai-blitz-8/problems/f1-speed-recognition/submissions/139839              |\n",
      "|                  |                                                                                                             |\n",
      "|  All submissions | https://www.aicrowd.com/challenges/ai-blitz-8/problems/f1-speed-recognition/submissions?my_submissions=true |\n",
      "|                  |                                                                                                             |\n",
      "|      Leaderboard | https://www.aicrowd.com/challenges/ai-blitz-8/problems/f1-speed-recognition/leaderboards                    |\n",
      "|                  |                                                                                                             |\n",
      "| Discussion forum | https://discourse.aicrowd.com/c/ai-blitz-8                                                                  |\n",
      "|                  |                                                                                                             |\n",
      "|   Challenge page | https://www.aicrowd.com/challenges/ai-blitz-8/problems/f1-speed-recognition                                 |\n",
      "+--------------------------------------------------------------------------------------------------------------------------------+\n",
      "{'submission_id': 139839, 'created_at': '2021-05-21T20:27:59.248Z'}\n"
     ]
    }
   ],
   "source": [
    "!aicrowd submission create -c f1-speed-recognition -f submission.csv"
   ]
  },
  {
   "cell_type": "code",
   "execution_count": null,
   "metadata": {},
   "outputs": [],
   "source": []
  }
 ],
 "metadata": {
  "kernelspec": {
   "display_name": "Python [conda env:ml]",
   "language": "python",
   "name": "conda-env-ml-py"
  },
  "language_info": {
   "codemirror_mode": {
    "name": "ipython",
    "version": 3
   },
   "file_extension": ".py",
   "mimetype": "text/x-python",
   "name": "python",
   "nbconvert_exporter": "python",
   "pygments_lexer": "ipython3",
   "version": "3.8.3"
  }
 },
 "nbformat": 4,
 "nbformat_minor": 4
}
