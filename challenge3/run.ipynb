{
 "cells": [
  {
   "cell_type": "code",
   "execution_count": 1,
   "metadata": {},
   "outputs": [],
   "source": [
    "import dataset, model\n",
    "import albumentations as A\n",
    "import matplotlib.pyplot as plt\n",
    "import pandas as pd\n",
    "import torch\n",
    "from torch.nn import functional as F\n",
    "import numpy as np"
   ]
  },
  {
   "cell_type": "code",
   "execution_count": 2,
   "metadata": {},
   "outputs": [
    {
     "data": {
      "text/plain": [
       "<module 'dataset' from 'D:\\\\f1\\\\ch3\\\\dataset.py'>"
      ]
     },
     "execution_count": 2,
     "metadata": {},
     "output_type": "execute_result"
    }
   ],
   "source": [
    "import importlib\n",
    "importlib.reload(model)\n",
    "importlib.reload(dataset)"
   ]
  },
  {
   "cell_type": "code",
   "execution_count": null,
   "metadata": {},
   "outputs": [
    {
     "name": "stderr",
     "output_type": "stream",
     "text": [
      "GPU available: True, used: True\n",
      "TPU available: None, using: 0 TPU cores\n",
      "Using native 16bit precision.\n",
      "\n",
      "  | Name  | Type | Params\n",
      "-------------------------------\n",
      "0 | model | CRNN | 8.3 M \n",
      "-------------------------------\n",
      "8.3 M     Trainable params\n",
      "0         Non-trainable params\n",
      "8.3 M     Total params\n",
      "33.276    Total estimated model params size (MB)\n"
     ]
    },
    {
     "data": {
      "application/vnd.jupyter.widget-view+json": {
       "model_id": "9c53b3c4be834103bcde07d6bd774a79",
       "version_major": 2,
       "version_minor": 0
      },
      "text/plain": [
       "Validation sanity check: 0it [00:00, ?it/s]"
      ]
     },
     "metadata": {},
     "output_type": "display_data"
    },
    {
     "data": {
      "application/vnd.jupyter.widget-view+json": {
       "model_id": "7e2ebe0b22a84c7a9c8110eaa72eefd7",
       "version_major": 2,
       "version_minor": 0
      },
      "text/plain": [
       "Training: 0it [00:00, ?it/s]"
      ]
     },
     "metadata": {},
     "output_type": "display_data"
    }
   ],
   "source": [
    "import model\n",
    "import albumentations as A\n",
    "from albumentations.augmentations.transforms import Flip\n",
    "import pytorch_lightning as pl\n",
    "from pytorch_lightning import Trainer\n",
    "from pytorch_lightning.callbacks.model_checkpoint import ModelCheckpoint\n",
    "from pytorch_lightning.callbacks.early_stopping import EarlyStopping\n",
    "\n",
    "if __name__ == '__main__':\n",
    "    ckpt = [ModelCheckpoint(monitor = 'val_loss',save_top_k = 1,mode = 'min'),\n",
    "           EarlyStopping(\n",
    "               monitor='val_loss',\n",
    "               min_delta=0.00,\n",
    "               patience=5,\n",
    "               verbose=False,\n",
    "               mode='min'\n",
    "            )]\n",
    "    trainer = Trainer(max_epochs = 50,gpus = 1, callbacks = ckpt, precision=16, amp_level='O1',deterministic=True,fast_dev_run = False)\n",
    "    \n",
    "    train_tr = A.Compose([\n",
    "        A.CenterCrop(128,128),\n",
    "        #A.Resize(32,128)\n",
    "    ])\n",
    "    \n",
    "    val_tr = A.Compose([\n",
    "        A.CenterCrop(128,128),\n",
    "        #A.Resize(32,128)\n",
    "    ])\n",
    "    \n",
    "    model = model.Classifier({'lr':3e-4,'batch_size':16,'train_tr':train_tr,'val_tr':val_tr})\n",
    "    \n",
    "    #ckpt = torch.load('lightning_logs/version_14/checkpoints/epoch=20-step=52499 - Kopie.ckpt')\n",
    "    #model.load_state_dict(ckpt['state_dict'])\n",
    "    trainer.fit(model)\n",
    "    trainer.test(model)"
   ]
  },
  {
   "cell_type": "code",
   "execution_count": null,
   "metadata": {},
   "outputs": [],
   "source": [
    "model = model.Classifier({'lr':3e-4,'batch_size':16,'train_tr':train_tr,'val_tr':val_tr})\n",
    "    \n",
    "ckpt = torch.load('') # PATH OF CHECKPOINT\n",
    "model.load_state_dict(ckpt['state_dict'])\n",
    "out = trainer.predict(model)"
   ]
  },
  {
   "cell_type": "code",
   "execution_count": 15,
   "metadata": {},
   "outputs": [],
   "source": [
    "import model\n",
    "concat = torch.tensor([])\n",
    "for i in range(len(out)):\n",
    "    concat = torch.cat((concat,torch.tensor(out[i])))"
   ]
  },
  {
   "cell_type": "code",
   "execution_count": 16,
   "metadata": {},
   "outputs": [],
   "source": [
    "concat = model.toNum(concat).squeeze()"
   ]
  },
  {
   "cell_type": "code",
   "execution_count": 17,
   "metadata": {},
   "outputs": [],
   "source": [
    "import model\n",
    "model.writeSub(concat) "
   ]
  },
  {
   "cell_type": "code",
   "execution_count": null,
   "metadata": {},
   "outputs": [],
   "source": []
  }
 ],
 "metadata": {
  "kernelspec": {
   "display_name": "Python [conda env:ml]",
   "language": "python",
   "name": "conda-env-ml-py"
  },
  "language_info": {
   "codemirror_mode": {
    "name": "ipython",
    "version": 3
   },
   "file_extension": ".py",
   "mimetype": "text/x-python",
   "name": "python",
   "nbconvert_exporter": "python",
   "pygments_lexer": "ipython3",
   "version": "3.8.3"
  }
 },
 "nbformat": 4,
 "nbformat_minor": 4
}
